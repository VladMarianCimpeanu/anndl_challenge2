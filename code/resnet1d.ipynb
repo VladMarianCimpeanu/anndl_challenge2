{
 "cells": [
  {
   "cell_type": "code",
   "execution_count": 2,
   "metadata": {
    "_cell_guid": "b1076dfc-b9ad-4769-8c92-a6c4dae69d19",
    "_uuid": "8f2839f25d086af736a60e9eeb907d3b93b6e0e5",
    "execution": {
     "iopub.execute_input": "2022-12-16T15:43:20.995295Z",
     "iopub.status.busy": "2022-12-16T15:43:20.994746Z",
     "iopub.status.idle": "2022-12-16T15:43:21.003624Z",
     "shell.execute_reply": "2022-12-16T15:43:21.002617Z",
     "shell.execute_reply.started": "2022-12-16T15:43:20.995250Z"
    }
   },
   "outputs": [],
   "source": [
    "import numpy as np \n",
    "import pandas as pd \n",
    "import os\n",
    "import matplotlib.pyplot as plt\n",
    "import seaborn as sns\n",
    "import tensorflow as tf\n",
    "import keras.backend as K\n",
    "import random\n",
    "\n",
    "from sklearn.model_selection import train_test_split, KFold\n",
    "from sklearn.metrics import classification_report, confusion_matrix\n",
    "\n",
    "tfk = tf.keras\n",
    "tfkl = tfk.layers\n",
    "seed = 100\n",
    "plt.style.use('ggplot')\n"
   ]
  },
  {
   "cell_type": "markdown",
   "metadata": {},
   "source": [
    "## Load data\n",
    "Load augmented data (sliding window). Data are already scaled with robust scaler."
   ]
  },
  {
   "cell_type": "code",
   "execution_count": 3,
   "metadata": {
    "execution": {
     "iopub.execute_input": "2022-12-16T15:43:21.006938Z",
     "iopub.status.busy": "2022-12-16T15:43:21.006343Z",
     "iopub.status.idle": "2022-12-16T15:43:21.073636Z",
     "shell.execute_reply": "2022-12-16T15:43:21.072739Z",
     "shell.execute_reply.started": "2022-12-16T15:43:21.006903Z"
    }
   },
   "outputs": [
    {
     "data": {
      "text/plain": [
       "(87024, 36, 6)"
      ]
     },
     "execution_count": 3,
     "metadata": {},
     "output_type": "execute_result"
    }
   ],
   "source": [
    "X = np.load(f'./augmented/X_stride1.npy')\n",
    "y = np.load(f'./augmented/y_stride1.npy')\n",
    "\n",
    "X.shape"
   ]
  },
  {
   "cell_type": "markdown",
   "metadata": {},
   "source": [
    "## Compute weights for classes"
   ]
  },
  {
   "cell_type": "code",
   "execution_count": 57,
   "metadata": {
    "execution": {
     "iopub.execute_input": "2022-12-16T15:43:21.075314Z",
     "iopub.status.busy": "2022-12-16T15:43:21.074940Z",
     "iopub.status.idle": "2022-12-16T15:43:21.083785Z",
     "shell.execute_reply": "2022-12-16T15:43:21.082607Z",
     "shell.execute_reply.started": "2022-12-16T15:43:21.075263Z"
    }
   },
   "outputs": [
    {
     "data": {
      "text/plain": [
       "{0: 6.099243061396131,\n",
       " 1: 1.6508081038015026,\n",
       " 2: 0.7487867836861125,\n",
       " 3: 0.5300782106571157,\n",
       " 4: 3.300864815657715,\n",
       " 5: 1.3250502466654486,\n",
       " 6: 0.6455977922193537,\n",
       " 7: 3.0053874844591792,\n",
       " 8: 1.6924154025670946,\n",
       " 9: 0.2595840641443247,\n",
       " 10: 2.649616368286445,\n",
       " 11: 4.026651860077735}"
      ]
     },
     "execution_count": 57,
     "metadata": {},
     "output_type": "execute_result"
    }
   ],
   "source": [
    "counter = np.bincount(y)\n",
    "frequencies = 1 / counter\n",
    "weights = frequencies * (y.shape[0] / frequencies.shape[0])\n",
    "\n",
    "w_s = {}\n",
    "for i, w in enumerate(weights):\n",
    "    w_s[i] = w\n",
    "w_s"
   ]
  },
  {
   "cell_type": "code",
   "execution_count": 58,
   "metadata": {
    "execution": {
     "iopub.execute_input": "2022-12-16T15:43:21.086412Z",
     "iopub.status.busy": "2022-12-16T15:43:21.085732Z",
     "iopub.status.idle": "2022-12-16T15:43:21.098846Z",
     "shell.execute_reply": "2022-12-16T15:43:21.097725Z",
     "shell.execute_reply.started": "2022-12-16T15:43:21.086377Z"
    }
   },
   "outputs": [
    {
     "data": {
      "text/plain": [
       "array([ 1189.,  4393.,  9685., 13681.,  2197.,  5473., 11233.,  2413.,\n",
       "        4285., 27937.,  2737.,  1801.])"
      ]
     },
     "execution_count": 58,
     "metadata": {},
     "output_type": "execute_result"
    }
   ],
   "source": [
    "1 / frequencies"
   ]
  },
  {
   "cell_type": "code",
   "execution_count": 59,
   "metadata": {
    "execution": {
     "iopub.execute_input": "2022-12-16T15:43:21.103035Z",
     "iopub.status.busy": "2022-12-16T15:43:21.102718Z",
     "iopub.status.idle": "2022-12-16T15:43:32.743730Z",
     "shell.execute_reply": "2022-12-16T15:43:32.742540Z",
     "shell.execute_reply.started": "2022-12-16T15:43:21.103008Z"
    }
   },
   "outputs": [],
   "source": [
    "def evaluate_model(m, X_val, y_val):\n",
    "    \"\"\"\n",
    "    This method computes the confusion matrix and recall, precision and f1-score for each class.\n",
    "    :param m: model to evaluate.\n",
    "    :param X_val: samples to use for the evaluation. X_val cannot be a tf.Dataset object.\n",
    "    :param y_val: labels for each element of X_val. y_val cannot be a tf.Dataset object.\n",
    "    :return pandas.DataFrame containing the confusion matrix and pandas.Dataframe whose rows \n",
    "    are recall,precision, f1-score and support, whereas columns are the labels.\n",
    "    \"\"\"\n",
    "    y_pred = m.predict(X_val)\n",
    "    y_pred = tf.argmax(y_pred, axis=1)\n",
    "    y_true = tf.argmax(y_val, axis=1)\n",
    "    \n",
    "    c_m = pd.DataFrame(confusion_matrix(y_true, y_pred, normalize='true'))\n",
    "    report = classification_report(y_true, y_pred, output_dict=True, zero_division=0)\n",
    "    report = pd.DataFrame(report)\n",
    "    report = report.drop(['accuracy', 'macro avg', 'weighted avg'], axis=1)\n",
    "    \n",
    "    return c_m, report"
   ]
  },
  {
   "cell_type": "markdown",
   "metadata": {},
   "source": [
    "# Soft f1 loss function\n",
    "[thanks to](https://www.kaggle.com/code/rejpalcz/best-loss-function-for-f1-score-metric/notebook)"
   ]
  },
  {
   "cell_type": "code",
   "execution_count": 60,
   "metadata": {
    "execution": {
     "iopub.execute_input": "2022-12-16T15:43:32.746013Z",
     "iopub.status.busy": "2022-12-16T15:43:32.745501Z",
     "iopub.status.idle": "2022-12-16T15:43:32.755810Z",
     "shell.execute_reply": "2022-12-16T15:43:32.754842Z",
     "shell.execute_reply.started": "2022-12-16T15:43:32.745970Z"
    }
   },
   "outputs": [],
   "source": [
    "def soft_f1_loss(y_true, y_pred):\n",
    "    \n",
    "    tp = K.sum(K.cast(y_true*y_pred, 'float'), axis=0)\n",
    "    tn = K.sum(K.cast((1-y_true)*(1-y_pred), 'float'), axis=0)\n",
    "    fp = K.sum(K.cast((1-y_true)*y_pred, 'float'), axis=0)\n",
    "    fn = K.sum(K.cast(y_true*(1-y_pred), 'float'), axis=0)\n",
    "\n",
    "    p = tp / (tp + fp + K.epsilon())\n",
    "    r = tp / (tp + fn + K.epsilon())\n",
    "\n",
    "    f1 = 2*p*r / (p+r+K.epsilon())\n",
    "    f1 = tf.where(tf.math.is_nan(f1), tf.zeros_like(f1), f1)\n",
    "    return 1 - K.mean(f1)"
   ]
  },
  {
   "cell_type": "markdown",
   "metadata": {},
   "source": [
    "## Split data\n",
    "loaded data use sliding window with stride 1, this means there are multiple samples sharing the same subset of timestamps. Samples sharing the same subset of timestamp must stay in the same set, otherwise we overfit the validation set and we vanish the help given by the validation set.\n"
   ]
  },
  {
   "cell_type": "code",
   "execution_count": 61,
   "metadata": {
    "execution": {
     "iopub.execute_input": "2022-12-16T15:43:32.757748Z",
     "iopub.status.busy": "2022-12-16T15:43:32.757369Z",
     "iopub.status.idle": "2022-12-16T15:43:33.089488Z",
     "shell.execute_reply": "2022-12-16T15:43:33.088446Z",
     "shell.execute_reply.started": "2022-12-16T15:43:32.757713Z"
    }
   },
   "outputs": [
    {
     "name": "stdout",
     "output_type": "stream",
     "text": [
      "(73966, 36, 6) (12626, 36, 6) (73966, 12) (12626, 12)\n"
     ]
    }
   ],
   "source": [
    "df = pd.DataFrame({'y': y})\n",
    "# getting indexes of the first instance for each label\n",
    "starting_indexes = list(df.drop_duplicates(keep='first').index.values)\n",
    "# getting indexes of the last instance for each label\n",
    "ending_indexes = starting_indexes[1:] + [df.index.values[-1] + 1]\n",
    "\n",
    "X_train = None\n",
    "X_val = None\n",
    "\n",
    "y_train = None\n",
    "y_val = None\n",
    "\n",
    "train_percentage = 0.85\n",
    "\n",
    "\n",
    "for label, starting_index, ending_index in zip(range(12), starting_indexes, ending_indexes):\n",
    "    \n",
    "    split_index = int(train_percentage * (ending_index - starting_index))\n",
    "    split_index += starting_index\n",
    "    assert split_index + 36 > starting_index\n",
    "    if X_train is None:\n",
    "        X_train = X[starting_index: split_index, :, :].copy()\n",
    "        y_train = y[starting_index: split_index].copy()\n",
    "        \n",
    "        X_val = X[split_index + 36: ending_index, :, :].copy()\n",
    "        y_val = y[split_index + 36: ending_index].copy()\n",
    "    else:\n",
    "        X_train = np.append(X_train, X[starting_index: split_index, :, :], axis=0)\n",
    "        y_train = np.append(y_train, y[starting_index: split_index])\n",
    "        \n",
    "        X_val = np.append(X_val, X[split_index + 36: ending_index, :, :], axis=0)\n",
    "        y_val = np.append(y_val, y[split_index + 36: ending_index])\n",
    "\n",
    "        \n",
    "y_train = tfk.utils.to_categorical(y_train)\n",
    "y_val = tfk.utils.to_categorical(y_val)\n",
    "\n",
    "print(X_train.shape, X_val.shape, y_train.shape, y_val.shape)"
   ]
  },
  {
   "cell_type": "code",
   "execution_count": 62,
   "metadata": {
    "execution": {
     "iopub.execute_input": "2022-12-16T15:43:33.091544Z",
     "iopub.status.busy": "2022-12-16T15:43:33.090896Z",
     "iopub.status.idle": "2022-12-16T15:43:33.098696Z",
     "shell.execute_reply": "2022-12-16T15:43:33.097644Z",
     "shell.execute_reply.started": "2022-12-16T15:43:33.091505Z"
    }
   },
   "outputs": [],
   "source": [
    "def residual_block_1D(input_tensor, kernel_size, filters, l2):\n",
    "    \"\"\"\n",
    "    This method returns a revisited version of a residual blok.\n",
    "    :param input_tensor: tensor whose output go into the residual block.\n",
    "    :param kernel_size: integer representing the window size in the convolution.\n",
    "    :param filters: number of filters.\n",
    "    :param l2: float penality term for the L2 regularizer. \n",
    "    \"\"\"\n",
    "    x = tfkl.BatchNormalization(momentum=0)(input_tensor)\n",
    "    x = tfk.activations.relu(x)\n",
    "    x = tfkl.Conv1D(filters=filters, kernel_size=1, padding='same', kernel_regularizer=tfk.regularizers.L2(l2))(x)\n",
    "    \n",
    "    x = tfkl.BatchNormalization(momentum=0)(x)\n",
    "    x = tfk.activations.relu(x)\n",
    "    x = tfkl.Conv1D(filters=filters, kernel_size=kernel_size, padding='same', kernel_regularizer=tfk.regularizers.L2(l2))(x)\n",
    "    \n",
    "    # uncomment the following lines to get the original residual block.\n",
    "    #x = tfkl.BatchNormalization(momentum=0)(x)\n",
    "    #x = tfk.activations.relu(x)\n",
    "    #x = tfkl.Conv1D(filters=filters, kernel_size=1, padding='same', kernel_regularizer=tfk.regularizers.L2(l2))(x)   \n",
    "    \n",
    "    x = tfkl.Add()([input_tensor, x])\n",
    "    \n",
    "    return x"
   ]
  },
  {
   "cell_type": "code",
   "execution_count": 117,
   "metadata": {
    "execution": {
     "iopub.execute_input": "2022-12-16T18:16:51.932467Z",
     "iopub.status.busy": "2022-12-16T18:16:51.932090Z",
     "iopub.status.idle": "2022-12-16T18:16:51.943793Z",
     "shell.execute_reply": "2022-12-16T18:16:51.942866Z",
     "shell.execute_reply.started": "2022-12-16T18:16:51.932433Z"
    }
   },
   "outputs": [],
   "source": [
    "def build_resnet1d(input_shape, n_classes, filters=64, l2_penalty=0, l2_softmax=0):\n",
    "    input_layer = tfkl.Input(shape=input_shape, name='Input')\n",
    "    \n",
    "    \n",
    "    x = tfkl.Conv1D(filters=filters, kernel_size=3, padding='same')(input_layer)\n",
    "    x = tfkl.MaxPooling1D()(x)\n",
    "    \n",
    "    x = residual_block_1D(x, 3, filters, l2_penalty)\n",
    "    x = residual_block_1D(x, 3, filters, l2_penalty)\n",
    "    x = residual_block_1D(x, 3, filters, l2_penalty)\n",
    "    x = tfkl.MaxPooling1D()(x)\n",
    "    \n",
    "    filters = filters * 2\n",
    "    x = tfkl.Conv1D(filters=filters, kernel_size=3, padding='same')(x)\n",
    "    x = residual_block_1D(x, 3, filters, l2_penalty)\n",
    "    x = residual_block_1D(x, 3, filters, l2_penalty)\n",
    "    #x = residual_block_1D(x, 3, filters, l2_penalty)\n",
    "    #x = residual_block_1D(x, 3, filters, l2_penalty)\n",
    "    #x = tfkl.MaxPooling1D()(x)\n",
    "    \n",
    "    \"\"\"filters = filters * 2\n",
    "    x = tfkl.Conv1D(filters=filters, kernel_size=3, padding='same')(x)\n",
    "    x = residual_block_1D(x, 3, filters, l2_penalty)\n",
    "    x = residual_block_1D(x, 3, filters, l2_penalty)\n",
    "    x = residual_block_1D(x, 3, filters, l2_penalty)\n",
    "    x = residual_block_1D(x, 3, filters, l2_penalty)\n",
    "    x = tfkl.MaxPooling1D()(x)\"\"\"\n",
    "    \n",
    "    \"\"\"filters = filters * 2\n",
    "    x = tfkl.Conv1D(filters=filters, kernel_size=3, padding='same')(x)\n",
    "    x = residual_block_1D(x, 3, filters, l2_penalty)\n",
    "    x = residual_block_1D(x, 3, filters, l2_penalty)\n",
    "    x = residual_block_1D(x, 3, filters, l2_penalty)\n",
    "    x = residual_block_1D(x, 3, filters, l2_penalty)\n",
    "    x = tfkl.MaxPooling1D()(x)\"\"\"\n",
    "    \n",
    "    x = tfkl.GlobalAveragePooling1D()(x)\n",
    "    output_layer = tfkl.Dense(n_classes, activation='softmax', kernel_regularizer=tfk.regularizers.L2(l2_softmax))(x)\n",
    "    \n",
    "    model = tfk.models.Model(inputs=input_layer, outputs=output_layer, name='model')\n",
    "    return model"
   ]
  },
  {
   "cell_type": "code",
   "execution_count": null,
   "metadata": {},
   "outputs": [],
   "source": [
    "epochs = 200\n",
    "batch_size = 128\n",
    "lr = 1e-3\n",
    "\n",
    "e_s = tfk.callbacks.EarlyStopping(\n",
    "    monitor='val_accuracy',\n",
    "    mode='max',\n",
    "    restore_best_weights=True,\n",
    "    patience=50\n",
    ")\n",
    "\n",
    "r_LR = tfk.callbacks.ReduceLROnPlateau(\n",
    "    monitor='val_accuracy',\n",
    "    factor=0.1,\n",
    "    patience=15,\n",
    "    mode='max',\n",
    "    verbose=1,\n",
    "    min_lr=1e-5\n",
    ")"
   ]
  },
  {
   "cell_type": "code",
   "execution_count": 118,
   "metadata": {
    "execution": {
     "iopub.execute_input": "2022-12-16T18:16:54.269379Z",
     "iopub.status.busy": "2022-12-16T18:16:54.269005Z",
     "iopub.status.idle": "2022-12-16T18:29:40.010577Z",
     "shell.execute_reply": "2022-12-16T18:29:40.009672Z",
     "shell.execute_reply.started": "2022-12-16T18:16:54.269347Z"
    }
   },
   "outputs": [
    {
     "name": "stdout",
     "output_type": "stream",
     "text": [
      "Epoch 1/200\n",
      "578/578 [==============================] - 12s 15ms/step - loss: 2.4043 - accuracy: 0.2864 - val_loss: 2.0082 - val_accuracy: 0.3105\n",
      "Epoch 2/200\n",
      "578/578 [==============================] - 8s 14ms/step - loss: 1.3475 - accuracy: 0.4056 - val_loss: 1.9548 - val_accuracy: 0.3479\n",
      "Epoch 3/200\n",
      "578/578 [==============================] - 8s 14ms/step - loss: 1.1331 - accuracy: 0.4558 - val_loss: 1.7535 - val_accuracy: 0.3749\n",
      "Epoch 4/200\n",
      "578/578 [==============================] - 8s 14ms/step - loss: 1.1417 - accuracy: 0.4803 - val_loss: 2.0395 - val_accuracy: 0.3920\n",
      "Epoch 5/200\n",
      "578/578 [==============================] - 8s 14ms/step - loss: 1.2732 - accuracy: 0.4801 - val_loss: 3.6223 - val_accuracy: 0.4011\n",
      "Epoch 6/200\n",
      "578/578 [==============================] - 8s 14ms/step - loss: 0.8441 - accuracy: 0.5489 - val_loss: 1.8768 - val_accuracy: 0.4647\n",
      "Epoch 7/200\n",
      "578/578 [==============================] - 8s 13ms/step - loss: 0.7729 - accuracy: 0.5755 - val_loss: 3.3453 - val_accuracy: 0.5067\n",
      "Epoch 8/200\n",
      "578/578 [==============================] - 8s 13ms/step - loss: 0.7840 - accuracy: 0.5897 - val_loss: 1.9697 - val_accuracy: 0.4975\n",
      "Epoch 9/200\n",
      "578/578 [==============================] - 8s 14ms/step - loss: 0.6595 - accuracy: 0.6326 - val_loss: 2.3737 - val_accuracy: 0.5678\n",
      "Epoch 10/200\n",
      "578/578 [==============================] - 8s 14ms/step - loss: 1.0555 - accuracy: 0.5821 - val_loss: 2.2767 - val_accuracy: 0.6106\n",
      "Epoch 11/200\n",
      "578/578 [==============================] - 8s 13ms/step - loss: 0.5883 - accuracy: 0.6604 - val_loss: 2.1470 - val_accuracy: 0.5556\n",
      "Epoch 12/200\n",
      "578/578 [==============================] - 8s 13ms/step - loss: 0.5182 - accuracy: 0.6957 - val_loss: 2.0362 - val_accuracy: 0.6169\n",
      "Epoch 13/200\n",
      "578/578 [==============================] - 8s 14ms/step - loss: 0.4618 - accuracy: 0.7238 - val_loss: 2.4200 - val_accuracy: 0.4998\n",
      "Epoch 14/200\n",
      "578/578 [==============================] - 8s 14ms/step - loss: 0.5594 - accuracy: 0.7047 - val_loss: 2.4654 - val_accuracy: 0.6332\n",
      "Epoch 15/200\n",
      "578/578 [==============================] - 8s 14ms/step - loss: 0.3974 - accuracy: 0.7564 - val_loss: 1.8001 - val_accuracy: 0.6201\n",
      "Epoch 16/200\n",
      "578/578 [==============================] - 8s 13ms/step - loss: 0.4768 - accuracy: 0.7400 - val_loss: 2.6887 - val_accuracy: 0.6196\n",
      "Epoch 17/200\n",
      "578/578 [==============================] - 8s 13ms/step - loss: 0.4208 - accuracy: 0.7631 - val_loss: 2.0926 - val_accuracy: 0.5325\n",
      "Epoch 18/200\n",
      "578/578 [==============================] - 8s 14ms/step - loss: 0.5990 - accuracy: 0.7164 - val_loss: 2.0556 - val_accuracy: 0.5383\n",
      "Epoch 19/200\n",
      "578/578 [==============================] - 8s 14ms/step - loss: 0.3497 - accuracy: 0.7821 - val_loss: 2.2842 - val_accuracy: 0.6279\n",
      "Epoch 20/200\n",
      "578/578 [==============================] - 8s 14ms/step - loss: 0.3418 - accuracy: 0.7997 - val_loss: 2.3362 - val_accuracy: 0.5905\n",
      "Epoch 21/200\n",
      "578/578 [==============================] - 8s 13ms/step - loss: 0.3210 - accuracy: 0.8087 - val_loss: 3.1264 - val_accuracy: 0.6180\n",
      "Epoch 22/200\n",
      "578/578 [==============================] - 8s 14ms/step - loss: 0.2980 - accuracy: 0.8174 - val_loss: 2.4226 - val_accuracy: 0.6270\n",
      "Epoch 23/200\n",
      "578/578 [==============================] - 8s 14ms/step - loss: 0.2483 - accuracy: 0.8407 - val_loss: 3.4343 - val_accuracy: 0.6258\n",
      "Epoch 24/200\n",
      "578/578 [==============================] - 8s 14ms/step - loss: 0.2352 - accuracy: 0.8503 - val_loss: 2.3536 - val_accuracy: 0.6710\n",
      "Epoch 25/200\n",
      "578/578 [==============================] - 8s 13ms/step - loss: 0.3775 - accuracy: 0.8073 - val_loss: 2.3173 - val_accuracy: 0.5520\n",
      "Epoch 26/200\n",
      "578/578 [==============================] - 8s 14ms/step - loss: 0.2090 - accuracy: 0.8601 - val_loss: 2.6361 - val_accuracy: 0.6479\n",
      "Epoch 27/200\n",
      "578/578 [==============================] - 8s 13ms/step - loss: 0.2028 - accuracy: 0.8687 - val_loss: 2.5618 - val_accuracy: 0.6539\n",
      "Epoch 28/200\n",
      "578/578 [==============================] - 8s 13ms/step - loss: 0.1768 - accuracy: 0.8823 - val_loss: 3.0151 - val_accuracy: 0.6514\n",
      "Epoch 29/200\n",
      "578/578 [==============================] - 8s 13ms/step - loss: 0.6064 - accuracy: 0.7830 - val_loss: 2.4463 - val_accuracy: 0.5436\n",
      "Epoch 30/200\n",
      "578/578 [==============================] - 8s 14ms/step - loss: 0.2040 - accuracy: 0.8654 - val_loss: 2.6418 - val_accuracy: 0.6552\n",
      "Epoch 31/200\n",
      "578/578 [==============================] - 8s 14ms/step - loss: 0.1568 - accuracy: 0.8934 - val_loss: 2.4318 - val_accuracy: 0.6762\n",
      "Epoch 32/200\n",
      "578/578 [==============================] - 8s 13ms/step - loss: 0.1464 - accuracy: 0.9010 - val_loss: 2.9779 - val_accuracy: 0.6641\n",
      "Epoch 33/200\n",
      "578/578 [==============================] - 8s 13ms/step - loss: 0.2254 - accuracy: 0.8812 - val_loss: 3.4407 - val_accuracy: 0.5413\n",
      "Epoch 34/200\n",
      "578/578 [==============================] - 8s 14ms/step - loss: 0.1919 - accuracy: 0.8869 - val_loss: 3.0355 - val_accuracy: 0.6486\n",
      "Epoch 35/200\n",
      "578/578 [==============================] - 8s 13ms/step - loss: 0.1305 - accuracy: 0.9114 - val_loss: 3.4419 - val_accuracy: 0.6639\n",
      "Epoch 36/200\n",
      "578/578 [==============================] - 8s 14ms/step - loss: 0.4093 - accuracy: 0.8600 - val_loss: 7.3071 - val_accuracy: 0.4932\n",
      "Epoch 37/200\n",
      "578/578 [==============================] - 8s 14ms/step - loss: 0.2828 - accuracy: 0.8519 - val_loss: 3.5595 - val_accuracy: 0.6733\n",
      "Epoch 38/200\n",
      "578/578 [==============================] - 8s 14ms/step - loss: 0.1376 - accuracy: 0.9088 - val_loss: 3.2470 - val_accuracy: 0.6491\n",
      "Epoch 39/200\n",
      "578/578 [==============================] - 8s 14ms/step - loss: 0.1194 - accuracy: 0.9193 - val_loss: 4.7606 - val_accuracy: 0.6515\n",
      "Epoch 40/200\n",
      "578/578 [==============================] - 8s 14ms/step - loss: 0.1790 - accuracy: 0.9010 - val_loss: 4.1497 - val_accuracy: 0.6275\n",
      "Epoch 41/200\n",
      "578/578 [==============================] - 8s 14ms/step - loss: 0.4694 - accuracy: 0.8502 - val_loss: 3.6675 - val_accuracy: 0.6667\n",
      "Epoch 42/200\n",
      "578/578 [==============================] - 8s 14ms/step - loss: 0.2212 - accuracy: 0.8875 - val_loss: 2.7792 - val_accuracy: 0.6546\n",
      "Epoch 43/200\n",
      "578/578 [==============================] - 8s 13ms/step - loss: 0.1187 - accuracy: 0.9204 - val_loss: 7.0794 - val_accuracy: 0.6362\n",
      "Epoch 44/200\n",
      "578/578 [==============================] - 8s 13ms/step - loss: 0.1091 - accuracy: 0.9280 - val_loss: 3.9056 - val_accuracy: 0.6513\n",
      "Epoch 45/200\n",
      "578/578 [==============================] - 8s 14ms/step - loss: 0.1073 - accuracy: 0.9282 - val_loss: 4.7240 - val_accuracy: 0.6932\n",
      "Epoch 46/200\n",
      "578/578 [==============================] - 8s 14ms/step - loss: 0.0958 - accuracy: 0.9355 - val_loss: 3.7372 - val_accuracy: 0.7211\n",
      "Epoch 47/200\n",
      "578/578 [==============================] - 8s 13ms/step - loss: 0.2146 - accuracy: 0.9066 - val_loss: 4.5526 - val_accuracy: 0.6117\n",
      "Epoch 48/200\n",
      "578/578 [==============================] - 8s 14ms/step - loss: 0.1426 - accuracy: 0.9135 - val_loss: 3.8264 - val_accuracy: 0.6644\n",
      "Epoch 49/200\n",
      "578/578 [==============================] - 8s 14ms/step - loss: 0.0877 - accuracy: 0.9381 - val_loss: 4.1462 - val_accuracy: 0.6699\n",
      "Epoch 50/200\n",
      "578/578 [==============================] - 8s 14ms/step - loss: 0.0872 - accuracy: 0.9412 - val_loss: 4.5744 - val_accuracy: 0.6468\n",
      "Epoch 51/200\n",
      "578/578 [==============================] - 8s 14ms/step - loss: 0.2675 - accuracy: 0.8884 - val_loss: 4.0490 - val_accuracy: 0.6898\n",
      "Epoch 52/200\n",
      "578/578 [==============================] - 8s 14ms/step - loss: 0.1118 - accuracy: 0.9318 - val_loss: 3.4490 - val_accuracy: 0.6750\n",
      "Epoch 53/200\n",
      "578/578 [==============================] - 8s 13ms/step - loss: 0.5512 - accuracy: 0.8474 - val_loss: 3.7116 - val_accuracy: 0.5363\n",
      "Epoch 54/200\n",
      "578/578 [==============================] - 9s 15ms/step - loss: 0.1141 - accuracy: 0.9234 - val_loss: 5.8482 - val_accuracy: 0.7011\n",
      "Epoch 55/200\n",
      "578/578 [==============================] - 8s 14ms/step - loss: 0.1005 - accuracy: 0.9372 - val_loss: 4.7433 - val_accuracy: 0.6706\n",
      "Epoch 56/200\n",
      "578/578 [==============================] - 8s 14ms/step - loss: 0.0817 - accuracy: 0.9439 - val_loss: 4.5763 - val_accuracy: 0.6845\n",
      "Epoch 57/200\n",
      "578/578 [==============================] - 8s 14ms/step - loss: 0.0830 - accuracy: 0.9452 - val_loss: 4.5992 - val_accuracy: 0.7033\n",
      "Epoch 58/200\n",
      "578/578 [==============================] - 8s 14ms/step - loss: 0.0838 - accuracy: 0.9454 - val_loss: 4.4040 - val_accuracy: 0.6944\n",
      "Epoch 59/200\n",
      "578/578 [==============================] - 8s 13ms/step - loss: 0.0835 - accuracy: 0.9445 - val_loss: 3.6237 - val_accuracy: 0.6879\n",
      "Epoch 60/200\n",
      "578/578 [==============================] - 8s 13ms/step - loss: 0.0849 - accuracy: 0.9453 - val_loss: 3.5743 - val_accuracy: 0.6520\n",
      "Epoch 61/200\n",
      "578/578 [==============================] - 8s 13ms/step - loss: 0.5212 - accuracy: 0.8633 - val_loss: 5.6242 - val_accuracy: 0.6803\n",
      "\n",
      "Epoch 00061: ReduceLROnPlateau reducing learning rate to 0.00010000000474974513.\n",
      "Epoch 62/200\n",
      "578/578 [==============================] - 8s 14ms/step - loss: 0.0808 - accuracy: 0.9441 - val_loss: 6.1728 - val_accuracy: 0.6982\n",
      "Epoch 63/200\n",
      "578/578 [==============================] - 8s 14ms/step - loss: 0.0743 - accuracy: 0.9489 - val_loss: 4.4672 - val_accuracy: 0.6748\n",
      "Epoch 64/200\n",
      "578/578 [==============================] - 8s 14ms/step - loss: 0.0636 - accuracy: 0.9555 - val_loss: 4.5356 - val_accuracy: 0.7014\n",
      "Epoch 65/200\n",
      "578/578 [==============================] - 8s 14ms/step - loss: 0.0594 - accuracy: 0.9572 - val_loss: 4.1340 - val_accuracy: 0.6764\n",
      "Epoch 66/200\n",
      "578/578 [==============================] - 8s 14ms/step - loss: 0.0525 - accuracy: 0.9612 - val_loss: 4.8529 - val_accuracy: 0.6965\n",
      "Epoch 67/200\n",
      "578/578 [==============================] - 8s 14ms/step - loss: 0.0605 - accuracy: 0.9611 - val_loss: 4.4341 - val_accuracy: 0.6815\n",
      "Epoch 68/200\n",
      "578/578 [==============================] - 8s 13ms/step - loss: 0.0462 - accuracy: 0.9664 - val_loss: 4.3719 - val_accuracy: 0.6696\n",
      "Epoch 69/200\n",
      "578/578 [==============================] - 9s 15ms/step - loss: 0.0470 - accuracy: 0.9673 - val_loss: 5.5955 - val_accuracy: 0.6834\n",
      "Epoch 70/200\n",
      "578/578 [==============================] - 8s 14ms/step - loss: 0.0439 - accuracy: 0.9679 - val_loss: 5.2027 - val_accuracy: 0.6982\n",
      "Epoch 71/200\n",
      "578/578 [==============================] - 8s 14ms/step - loss: 0.0425 - accuracy: 0.9689 - val_loss: 5.2546 - val_accuracy: 0.6891\n",
      "Epoch 72/200\n",
      "578/578 [==============================] - 8s 14ms/step - loss: 0.0374 - accuracy: 0.9726 - val_loss: 4.9040 - val_accuracy: 0.7006\n",
      "Epoch 73/200\n",
      "578/578 [==============================] - 8s 14ms/step - loss: 0.0376 - accuracy: 0.9719 - val_loss: 4.7562 - val_accuracy: 0.6690\n",
      "Epoch 74/200\n",
      "578/578 [==============================] - 8s 14ms/step - loss: 0.0355 - accuracy: 0.9739 - val_loss: 4.5952 - val_accuracy: 0.6818\n",
      "Epoch 75/200\n",
      "578/578 [==============================] - 8s 13ms/step - loss: 0.0338 - accuracy: 0.9743 - val_loss: 5.0564 - val_accuracy: 0.6796\n",
      "Epoch 76/200\n",
      "578/578 [==============================] - 8s 13ms/step - loss: 0.0335 - accuracy: 0.9751 - val_loss: 4.5471 - val_accuracy: 0.6857\n",
      "\n",
      "Epoch 00076: ReduceLROnPlateau reducing learning rate to 1.0000000474974514e-05.\n",
      "Epoch 77/200\n",
      "578/578 [==============================] - 8s 14ms/step - loss: 0.0297 - accuracy: 0.9777 - val_loss: 5.1941 - val_accuracy: 0.7033\n",
      "Epoch 78/200\n",
      "578/578 [==============================] - 8s 13ms/step - loss: 0.0303 - accuracy: 0.9774 - val_loss: 5.2023 - val_accuracy: 0.7056\n",
      "Epoch 79/200\n",
      "578/578 [==============================] - 8s 13ms/step - loss: 0.0293 - accuracy: 0.9782 - val_loss: 5.0659 - val_accuracy: 0.6927\n",
      "Epoch 80/200\n",
      "578/578 [==============================] - 8s 14ms/step - loss: 0.0282 - accuracy: 0.9792 - val_loss: 4.9817 - val_accuracy: 0.6884\n",
      "Epoch 81/200\n",
      "578/578 [==============================] - 8s 14ms/step - loss: 0.0291 - accuracy: 0.9786 - val_loss: 5.4972 - val_accuracy: 0.6898\n",
      "Epoch 82/200\n",
      "578/578 [==============================] - 8s 13ms/step - loss: 0.0299 - accuracy: 0.9793 - val_loss: 3.8537 - val_accuracy: 0.6374\n",
      "Epoch 83/200\n",
      "578/578 [==============================] - 8s 13ms/step - loss: 0.0275 - accuracy: 0.9792 - val_loss: 6.5093 - val_accuracy: 0.6986\n",
      "Epoch 84/200\n",
      "578/578 [==============================] - 8s 14ms/step - loss: 0.0273 - accuracy: 0.9794 - val_loss: 5.5611 - val_accuracy: 0.7055\n",
      "Epoch 85/200\n",
      "578/578 [==============================] - 8s 14ms/step - loss: 0.0278 - accuracy: 0.9796 - val_loss: 4.9235 - val_accuracy: 0.6959\n",
      "Epoch 86/200\n",
      "578/578 [==============================] - 8s 14ms/step - loss: 0.0266 - accuracy: 0.9795 - val_loss: 5.0082 - val_accuracy: 0.6919\n",
      "Epoch 87/200\n",
      "578/578 [==============================] - 8s 14ms/step - loss: 0.0272 - accuracy: 0.9800 - val_loss: 5.5604 - val_accuracy: 0.7002\n",
      "Epoch 88/200\n",
      "578/578 [==============================] - 8s 14ms/step - loss: 0.0266 - accuracy: 0.9797 - val_loss: 4.5112 - val_accuracy: 0.6669\n",
      "Epoch 89/200\n",
      "578/578 [==============================] - 8s 14ms/step - loss: 0.0294 - accuracy: 0.9792 - val_loss: 5.4490 - val_accuracy: 0.7077\n",
      "Epoch 90/200\n",
      "578/578 [==============================] - 8s 14ms/step - loss: 0.0276 - accuracy: 0.9799 - val_loss: 5.5215 - val_accuracy: 0.6994\n",
      "Epoch 91/200\n",
      "578/578 [==============================] - 8s 14ms/step - loss: 0.0339 - accuracy: 0.9796 - val_loss: 4.4756 - val_accuracy: 0.6887\n",
      "\n",
      "Epoch 00091: ReduceLROnPlateau reducing learning rate to 1e-05.\n",
      "Epoch 92/200\n",
      "578/578 [==============================] - 8s 14ms/step - loss: 0.0269 - accuracy: 0.9797 - val_loss: 5.6811 - val_accuracy: 0.6922\n",
      "Epoch 93/200\n",
      "578/578 [==============================] - 8s 14ms/step - loss: 0.0256 - accuracy: 0.9802 - val_loss: 4.7349 - val_accuracy: 0.7033\n",
      "Epoch 94/200\n",
      "578/578 [==============================] - 8s 14ms/step - loss: 0.0269 - accuracy: 0.9814 - val_loss: 5.1077 - val_accuracy: 0.7030\n",
      "Epoch 95/200\n",
      "578/578 [==============================] - 8s 13ms/step - loss: 0.0269 - accuracy: 0.9797 - val_loss: 4.6749 - val_accuracy: 0.6872\n",
      "Epoch 96/200\n",
      "578/578 [==============================] - 8s 13ms/step - loss: 0.0266 - accuracy: 0.9804 - val_loss: 4.3571 - val_accuracy: 0.6732\n"
     ]
    }
   ],
   "source": [
    "model = build_resnet1d(X_train.shape[1:], 12, filters=64)\n",
    "\n",
    "categorical_loss = tfk.losses.CategoricalCrossentropy()\n",
    "\n",
    "model.compile(loss=categorical_loss, optimizer=tfk.optimizers.Adam(learning_rate=lr), metrics='accuracy')\n",
    "\n",
    "history = model.fit(\n",
    "    x=X_train,\n",
    "    y=y_train,\n",
    "    batch_size=batch_size,\n",
    "    epochs=epochs,\n",
    "    callbacks=callbacks,\n",
    "    validation_data=(X_val, y_val),\n",
    "    shuffle=True,\n",
    "    class_weight=w_s,\n",
    "    workers=4,\n",
    "    use_multiprocessing=True,\n",
    ")"
   ]
  },
  {
   "cell_type": "code",
   "execution_count": 119,
   "metadata": {
    "execution": {
     "iopub.execute_input": "2022-12-16T18:29:59.024110Z",
     "iopub.status.busy": "2022-12-16T18:29:59.023756Z",
     "iopub.status.idle": "2022-12-16T18:29:59.248127Z",
     "shell.execute_reply": "2022-12-16T18:29:59.247230Z",
     "shell.execute_reply.started": "2022-12-16T18:29:59.024077Z"
    }
   },
   "outputs": [
    {
     "name": "stdout",
     "output_type": "stream",
     "text": [
      "0.721051812171936\n"
     ]
    },
    {
     "data": {
      "image/png": "[encoded data removed]",
      "text/plain": [
       "<Figure size 864x432 with 1 Axes>"
      ]
     },
     "metadata": {},
     "output_type": "display_data"
    }
   ],
   "source": [
    "print(np.max(history.history['val_accuracy']))\n",
    "x_axis = np.arange(len(history.history['val_accuracy']))\n",
    "\n",
    "plt.figure(figsize=(12, 6))\n",
    "plt.title(\"Accuracy\")\n",
    "plt.plot(x_axis, history.history[\"accuracy\"], label=\"train accuracy\")\n",
    "plt.plot(x_axis, history.history[\"val_accuracy\"], label=\"validation accuracy\")\n",
    "\n",
    "\n",
    "plt.legend()\n",
    "plt.xlabel(\"Epochs\")\n",
    "plt.ylabel(\"Accuracy\")\n",
    "plt.show()"
   ]
  },
  {
   "cell_type": "code",
   "execution_count": 120,
   "metadata": {
    "execution": {
     "iopub.execute_input": "2022-12-16T18:30:50.918824Z",
     "iopub.status.busy": "2022-12-16T18:30:50.918156Z",
     "iopub.status.idle": "2022-12-16T18:30:52.226278Z",
     "shell.execute_reply": "2022-12-16T18:30:52.225328Z",
     "shell.execute_reply.started": "2022-12-16T18:30:50.918786Z"
    }
   },
   "outputs": [],
   "source": [
    "c_m, report = evaluate_model(model, X_val, y_val)"
   ]
  },
  {
   "cell_type": "code",
   "execution_count": 121,
   "metadata": {
    "execution": {
     "iopub.execute_input": "2022-12-16T18:30:54.426804Z",
     "iopub.status.busy": "2022-12-16T18:30:54.426143Z",
     "iopub.status.idle": "2022-12-16T18:30:55.123447Z",
     "shell.execute_reply": "2022-12-16T18:30:55.122115Z",
     "shell.execute_reply.started": "2022-12-16T18:30:54.426767Z"
    }
   },
   "outputs": [
    {
     "data": {
      "image/png": "[encoded data removed]",
      "text/plain": [
       "<Figure size 864x720 with 2 Axes>"
      ]
     },
     "metadata": {},
     "output_type": "display_data"
    }
   ],
   "source": [
    "plt.figure(figsize=(12, 10))\n",
    "sns.heatmap(c_m, cmap='Blues', annot=True)\n",
    "plt.show()"
   ]
  },
  {
   "cell_type": "code",
   "execution_count": 122,
   "metadata": {
    "execution": {
     "iopub.execute_input": "2022-12-16T18:31:00.552869Z",
     "iopub.status.busy": "2022-12-16T18:31:00.552186Z",
     "iopub.status.idle": "2022-12-16T18:31:00.568328Z",
     "shell.execute_reply": "2022-12-16T18:31:00.567218Z",
     "shell.execute_reply.started": "2022-12-16T18:31:00.552833Z"
    }
   },
   "outputs": [
    {
     "data": {
      "text/html": [
       "<div>\n",
       "<style scoped>\n",
       "    .dataframe tbody tr th:only-of-type {\n",
       "        vertical-align: middle;\n",
       "    }\n",
       "\n",
       "    .dataframe tbody tr th {\n",
       "        vertical-align: top;\n",
       "    }\n",
       "\n",
       "    .dataframe thead th {\n",
       "        text-align: right;\n",
       "    }\n",
       "</style>\n",
       "<table border=\"1\" class=\"dataframe\">\n",
       "  <thead>\n",
       "    <tr style=\"text-align: right;\">\n",
       "      <th></th>\n",
       "      <th>0</th>\n",
       "      <th>1</th>\n",
       "      <th>2</th>\n",
       "      <th>3</th>\n",
       "      <th>4</th>\n",
       "      <th>5</th>\n",
       "      <th>6</th>\n",
       "      <th>7</th>\n",
       "      <th>8</th>\n",
       "      <th>9</th>\n",
       "      <th>10</th>\n",
       "      <th>11</th>\n",
       "    </tr>\n",
       "  </thead>\n",
       "  <tbody>\n",
       "    <tr>\n",
       "      <th>precision</th>\n",
       "      <td>0.634783</td>\n",
       "      <td>0.666667</td>\n",
       "      <td>0.956581</td>\n",
       "      <td>0.578740</td>\n",
       "      <td>0.613065</td>\n",
       "      <td>0.475936</td>\n",
       "      <td>0.824150</td>\n",
       "      <td>0.721519</td>\n",
       "      <td>0.888325</td>\n",
       "      <td>0.680170</td>\n",
       "      <td>0.832080</td>\n",
       "      <td>0.415205</td>\n",
       "    </tr>\n",
       "    <tr>\n",
       "      <th>recall</th>\n",
       "      <td>0.510490</td>\n",
       "      <td>0.510433</td>\n",
       "      <td>0.995060</td>\n",
       "      <td>0.510164</td>\n",
       "      <td>0.414966</td>\n",
       "      <td>0.226752</td>\n",
       "      <td>0.852638</td>\n",
       "      <td>0.349693</td>\n",
       "      <td>0.864909</td>\n",
       "      <td>0.848616</td>\n",
       "      <td>0.885333</td>\n",
       "      <td>0.302128</td>\n",
       "    </tr>\n",
       "    <tr>\n",
       "      <th>f1-score</th>\n",
       "      <td>0.565891</td>\n",
       "      <td>0.578182</td>\n",
       "      <td>0.975441</td>\n",
       "      <td>0.542292</td>\n",
       "      <td>0.494929</td>\n",
       "      <td>0.307161</td>\n",
       "      <td>0.838152</td>\n",
       "      <td>0.471074</td>\n",
       "      <td>0.876461</td>\n",
       "      <td>0.755113</td>\n",
       "      <td>0.857881</td>\n",
       "      <td>0.349754</td>\n",
       "    </tr>\n",
       "    <tr>\n",
       "      <th>support</th>\n",
       "      <td>143.000000</td>\n",
       "      <td>623.000000</td>\n",
       "      <td>1417.000000</td>\n",
       "      <td>2017.000000</td>\n",
       "      <td>294.000000</td>\n",
       "      <td>785.000000</td>\n",
       "      <td>1649.000000</td>\n",
       "      <td>326.000000</td>\n",
       "      <td>607.000000</td>\n",
       "      <td>4155.000000</td>\n",
       "      <td>375.000000</td>\n",
       "      <td>235.000000</td>\n",
       "    </tr>\n",
       "  </tbody>\n",
       "</table>\n",
       "</div>"
      ],
      "text/plain": [
       "                    0           1            2            3           4  \\\n",
       "precision    0.634783    0.666667     0.956581     0.578740    0.613065   \n",
       "recall       0.510490    0.510433     0.995060     0.510164    0.414966   \n",
       "f1-score     0.565891    0.578182     0.975441     0.542292    0.494929   \n",
       "support    143.000000  623.000000  1417.000000  2017.000000  294.000000   \n",
       "\n",
       "                    5            6           7           8            9  \\\n",
       "precision    0.475936     0.824150    0.721519    0.888325     0.680170   \n",
       "recall       0.226752     0.852638    0.349693    0.864909     0.848616   \n",
       "f1-score     0.307161     0.838152    0.471074    0.876461     0.755113   \n",
       "support    785.000000  1649.000000  326.000000  607.000000  4155.000000   \n",
       "\n",
       "                   10          11  \n",
       "precision    0.832080    0.415205  \n",
       "recall       0.885333    0.302128  \n",
       "f1-score     0.857881    0.349754  \n",
       "support    375.000000  235.000000  "
      ]
     },
     "execution_count": 122,
     "metadata": {},
     "output_type": "execute_result"
    }
   ],
   "source": [
    "report"
   ]
  },
  {
   "cell_type": "code",
   "execution_count": 123,
   "metadata": {
    "execution": {
     "iopub.execute_input": "2022-12-16T18:31:03.821691Z",
     "iopub.status.busy": "2022-12-16T18:31:03.820762Z",
     "iopub.status.idle": "2022-12-16T18:31:10.793874Z",
     "shell.execute_reply": "2022-12-16T18:31:10.792855Z",
     "shell.execute_reply.started": "2022-12-16T18:31:03.821640Z"
    }
   },
   "outputs": [
    {
     "name": "stderr",
     "output_type": "stream",
     "text": [
      "2022-12-16 18:31:06.118130: W tensorflow/python/util/util.cc:348] Sets are not currently considered sequences, but this may change in the future, so consider avoiding using them.\n",
      "/opt/conda/lib/python3.7/site-packages/keras/utils/generic_utils.py:497: CustomMaskWarning: Custom mask layers require a config and must override get_config. When loading, the custom mask layer must be passed to the custom_objects argument.\n",
      "  category=CustomMaskWarning)\n"
     ]
    }
   ],
   "source": [
    "model.save('models/')"
   ]
  }
 ],
 "metadata": {
  "kernelspec": {
   "display_name": "Python 3 (ipykernel)",
   "language": "python",
   "name": "python3"
  },
  "language_info": {
   "codemirror_mode": {
    "name": "ipython",
    "version": 3
   },
   "file_extension": ".py",
   "mimetype": "text/x-python",
   "name": "python",
   "nbconvert_exporter": "python",
   "pygments_lexer": "ipython3",
   "version": "3.8.13"
  }
 },
 "nbformat": 4,
 "nbformat_minor": 4
}
