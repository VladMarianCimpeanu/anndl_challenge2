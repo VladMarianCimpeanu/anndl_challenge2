{
 "cells": [
  {
   "cell_type": "code",
   "execution_count": 2,
   "metadata": {
    "_cell_guid": "b1076dfc-b9ad-4769-8c92-a6c4dae69d19",
    "_uuid": "8f2839f25d086af736a60e9eeb907d3b93b6e0e5",
    "execution": {
     "iopub.execute_input": "2022-12-13T13:01:45.598433Z",
     "iopub.status.busy": "2022-12-13T13:01:45.597509Z",
     "iopub.status.idle": "2022-12-13T13:01:51.645124Z",
     "shell.execute_reply": "2022-12-13T13:01:51.644176Z",
     "shell.execute_reply.started": "2022-12-13T13:01:45.598332Z"
    }
   },
   "outputs": [],
   "source": [
    "import numpy as np \n",
    "import pandas as pd \n",
    "import os\n",
    "import matplotlib.pyplot as plt\n",
    "import seaborn as sns\n",
    "import tensorflow as tf\n",
    "import keras.backend as K\n",
    "import random\n",
    "\n",
    "from sklearn.model_selection import train_test_split, KFold\n",
    "from sklearn.metrics import classification_report, confusion_matrix\n",
    "\n",
    "tfk = tf.keras\n",
    "tfkl = tfk.layers\n",
    "seed = 100\n",
    "plt.style.use('ggplot')\n"
   ]
  },
  {
   "cell_type": "markdown",
   "metadata": {},
   "source": [
    "## Load data\n",
    "Load augmented data (sliding window). Data are already scaled with robust scaler."
   ]
  },
  {
   "cell_type": "code",
   "execution_count": 3,
   "metadata": {
    "execution": {
     "iopub.execute_input": "2022-12-13T13:01:51.647770Z",
     "iopub.status.busy": "2022-12-13T13:01:51.647105Z",
     "iopub.status.idle": "2022-12-13T13:01:52.794996Z",
     "shell.execute_reply": "2022-12-13T13:01:52.794019Z",
     "shell.execute_reply.started": "2022-12-13T13:01:51.647733Z"
    }
   },
   "outputs": [
    {
     "data": {
      "text/plain": [
       "(87024, 36, 6)"
      ]
     },
     "execution_count": 3,
     "metadata": {},
     "output_type": "execute_result"
    }
   ],
   "source": [
    "X = np.load(f'./augmented/X_stride1.npy')\n",
    "y = np.load(f'./augmented/y_stride1.npy')\n",
    "\n",
    "X.shape"
   ]
  },
  {
   "cell_type": "markdown",
   "metadata": {},
   "source": [
    "## Compute weights for classes"
   ]
  },
  {
   "cell_type": "code",
   "execution_count": 3,
   "metadata": {
    "execution": {
     "iopub.execute_input": "2022-12-13T13:01:52.796952Z",
     "iopub.status.busy": "2022-12-13T13:01:52.796600Z",
     "iopub.status.idle": "2022-12-13T13:01:52.806732Z",
     "shell.execute_reply": "2022-12-13T13:01:52.805616Z",
     "shell.execute_reply.started": "2022-12-13T13:01:52.796919Z"
    }
   },
   "outputs": [
    {
     "data": {
      "text/plain": [
       "{0: 6.099243061396131,\n",
       " 1: 1.6508081038015026,\n",
       " 2: 0.7487867836861125,\n",
       " 3: 0.5300782106571157,\n",
       " 4: 3.300864815657715,\n",
       " 5: 1.3250502466654486,\n",
       " 6: 0.6455977922193537,\n",
       " 7: 3.0053874844591792,\n",
       " 8: 1.6924154025670946,\n",
       " 9: 0.2595840641443247,\n",
       " 10: 2.649616368286445,\n",
       " 11: 4.026651860077735}"
      ]
     },
     "execution_count": 3,
     "metadata": {},
     "output_type": "execute_result"
    }
   ],
   "source": [
    "counter = np.bincount(y)\n",
    "frequencies = 1 / counter\n",
    "weights = frequencies * (y.shape[0] / frequencies.shape[0])\n",
    "\n",
    "w_s = {}\n",
    "for i, w in enumerate(weights):\n",
    "    w_s[i] = w\n",
    "w_s"
   ]
  },
  {
   "cell_type": "code",
   "execution_count": 4,
   "metadata": {
    "execution": {
     "iopub.execute_input": "2022-12-13T13:01:52.810464Z",
     "iopub.status.busy": "2022-12-13T13:01:52.810101Z",
     "iopub.status.idle": "2022-12-13T13:01:52.818046Z",
     "shell.execute_reply": "2022-12-13T13:01:52.816007Z",
     "shell.execute_reply.started": "2022-12-13T13:01:52.810428Z"
    }
   },
   "outputs": [
    {
     "data": {
      "text/plain": [
       "array([ 1189.,  4393.,  9685., 13681.,  2197.,  5473., 11233.,  2413.,\n",
       "        4285., 27937.,  2737.,  1801.])"
      ]
     },
     "execution_count": 4,
     "metadata": {},
     "output_type": "execute_result"
    }
   ],
   "source": [
    "1 / frequencies"
   ]
  },
  {
   "cell_type": "code",
   "execution_count": 5,
   "metadata": {
    "execution": {
     "iopub.execute_input": "2022-12-13T13:01:52.820516Z",
     "iopub.status.busy": "2022-12-13T13:01:52.819945Z",
     "iopub.status.idle": "2022-12-13T13:01:52.829363Z",
     "shell.execute_reply": "2022-12-13T13:01:52.827654Z",
     "shell.execute_reply.started": "2022-12-13T13:01:52.820481Z"
    }
   },
   "outputs": [],
   "source": [
    "def evaluate_model(m, X_val, y_val):\n",
    "    \"\"\"\n",
    "    This method computes the confusion matrix and recall, precision and f1-score for each class.\n",
    "    :param m: model to evaluate.\n",
    "    :param X_val: samples to use for the evaluation. X_val cannot be a tf.Dataset object.\n",
    "    :param y_val: labels for each element of X_val. y_val cannot be a tf.Dataset object.\n",
    "    :return pandas.DataFrame containing the confusion matrix and pandas.Dataframe whose rows \n",
    "    are recall,precision, f1-score and support, whereas columns are the labels.\n",
    "    \"\"\"\n",
    "    y_pred = m.predict(X_val)\n",
    "    y_pred = tf.argmax(y_pred, axis=1)\n",
    "    y_true = tf.argmax(y_val, axis=1)\n",
    "    \n",
    "    c_m = pd.DataFrame(confusion_matrix(y_true, y_pred, normalize='true'))\n",
    "    report = classification_report(y_true, y_pred, output_dict=True, zero_division=0)\n",
    "    report = pd.DataFrame(report)\n",
    "    report = report.drop(['accuracy', 'macro avg', 'weighted avg'], axis=1)\n",
    "    \n",
    "    return c_m, report"
   ]
  },
  {
   "cell_type": "markdown",
   "metadata": {},
   "source": [
    "# Soft f1 loss function\n",
    "[thanks to](https://www.kaggle.com/code/rejpalcz/best-loss-function-for-f1-score-metric/notebook)"
   ]
  },
  {
   "cell_type": "code",
   "execution_count": 6,
   "metadata": {
    "execution": {
     "iopub.execute_input": "2022-12-13T13:01:52.831218Z",
     "iopub.status.busy": "2022-12-13T13:01:52.830810Z",
     "iopub.status.idle": "2022-12-13T13:01:52.840929Z",
     "shell.execute_reply": "2022-12-13T13:01:52.839648Z",
     "shell.execute_reply.started": "2022-12-13T13:01:52.831190Z"
    }
   },
   "outputs": [],
   "source": [
    "def soft_f1_loss(y_true, y_pred):\n",
    "    \n",
    "    tp = K.sum(K.cast(y_true*y_pred, 'float'), axis=0)\n",
    "    tn = K.sum(K.cast((1-y_true)*(1-y_pred), 'float'), axis=0)\n",
    "    fp = K.sum(K.cast((1-y_true)*y_pred, 'float'), axis=0)\n",
    "    fn = K.sum(K.cast(y_true*(1-y_pred), 'float'), axis=0)\n",
    "\n",
    "    p = tp / (tp + fp + K.epsilon())\n",
    "    r = tp / (tp + fn + K.epsilon())\n",
    "\n",
    "    f1 = 2*p*r / (p+r+K.epsilon())\n",
    "    f1 = tf.where(tf.math.is_nan(f1), tf.zeros_like(f1), f1)\n",
    "    return 1 - K.mean(f1)"
   ]
  },
  {
   "cell_type": "markdown",
   "metadata": {},
   "source": [
    "## Split data\n",
    "loaded data use sliding window with stride 1, this means there are multiple samples sharing the same subset of timestamps. Samples sharing the same subset of timestamp must stay in the same set, otherwise we overfit the validation set and we vanish the help given by the validation set.\n"
   ]
  },
  {
   "cell_type": "code",
   "execution_count": 7,
   "metadata": {
    "execution": {
     "iopub.execute_input": "2022-12-13T13:01:52.843195Z",
     "iopub.status.busy": "2022-12-13T13:01:52.842726Z",
     "iopub.status.idle": "2022-12-13T13:01:53.223621Z",
     "shell.execute_reply": "2022-12-13T13:01:53.222309Z",
     "shell.execute_reply.started": "2022-12-13T13:01:52.843162Z"
    }
   },
   "outputs": [
    {
     "name": "stdout",
     "output_type": "stream",
     "text": [
      "(73966, 36, 6) (12626, 36, 6) (73966, 12) (12626, 12)\n"
     ]
    }
   ],
   "source": [
    "df = pd.DataFrame({'y': y})\n",
    "starting_indexes = list(df.drop_duplicates(keep='first').index.values)\n",
    "ending_indexes = starting_indexes[1:] + [df.index.values[-1] + 1]\n",
    "\n",
    "X_train = None\n",
    "X_val = None\n",
    "\n",
    "y_train = None\n",
    "y_val = None\n",
    "\n",
    "train_percentage = 0.85\n",
    "\n",
    "\n",
    "for label, starting_index, ending_index in zip(range(12), starting_indexes, ending_indexes):\n",
    "    \n",
    "    split_index = int(train_percentage * (ending_index - starting_index))\n",
    "    split_index += starting_index\n",
    "    assert split_index + 36 > starting_index\n",
    "    if X_train is None:\n",
    "        X_train = X[starting_index: split_index, :, :].copy()\n",
    "        y_train = y[starting_index: split_index].copy()\n",
    "        \n",
    "        X_val = X[split_index + 36: ending_index, :, :].copy()\n",
    "        y_val = y[split_index + 36: ending_index].copy()\n",
    "    else:\n",
    "        X_train = np.append(X_train, X[starting_index: split_index, :, :], axis=0)\n",
    "        y_train = np.append(y_train, y[starting_index: split_index])\n",
    "        \n",
    "        X_val = np.append(X_val, X[split_index + 36: ending_index, :, :], axis=0)\n",
    "        y_val = np.append(y_val, y[split_index + 36: ending_index])\n",
    "\n",
    "        \n",
    "y_train = tfk.utils.to_categorical(y_train)\n",
    "y_val = tfk.utils.to_categorical(y_val)\n",
    "\n",
    "print(X_train.shape, X_val.shape, y_train.shape, y_val.shape)"
   ]
  },
  {
   "cell_type": "code",
   "execution_count": 115,
   "metadata": {
    "execution": {
     "iopub.execute_input": "2022-12-13T14:26:57.862938Z",
     "iopub.status.busy": "2022-12-13T14:26:57.861957Z",
     "iopub.status.idle": "2022-12-13T14:26:57.869741Z",
     "shell.execute_reply": "2022-12-13T14:26:57.868449Z",
     "shell.execute_reply.started": "2022-12-13T14:26:57.862899Z"
    }
   },
   "outputs": [],
   "source": [
    "epochs = 200\n",
    "batch_size = 512\n",
    "lr = 1e-3\n",
    "\n",
    "e_s = tfk.callbacks.EarlyStopping(\n",
    "    monitor='val_accuracy',\n",
    "    mode='max',\n",
    "    restore_best_weights=True,\n",
    "    patience=40\n",
    ")\n",
    "\n",
    "r_LR = tfk.callbacks.ReduceLROnPlateau(\n",
    "    monitor='val_accuracy',\n",
    "    factor=0.1,\n",
    "    patience=15,\n",
    "    mode='max',\n",
    "    verbose=1,\n",
    "    min_lr=1e-5\n",
    ")\n",
    "\n",
    "\n",
    "callbacks = [e_s, r_LR]"
   ]
  },
  {
   "cell_type": "code",
   "execution_count": 123,
   "metadata": {
    "execution": {
     "iopub.execute_input": "2022-12-13T14:32:14.424726Z",
     "iopub.status.busy": "2022-12-13T14:32:14.424017Z",
     "iopub.status.idle": "2022-12-13T14:32:14.432441Z",
     "shell.execute_reply": "2022-12-13T14:32:14.431434Z",
     "shell.execute_reply.started": "2022-12-13T14:32:14.424688Z"
    }
   },
   "outputs": [],
   "source": [
    "def build_model(input_shape, n_classes):\n",
    "    # Build the neural network layer by layer\n",
    "    input_layer = tfkl.Input(shape=input_shape, name='Input')\n",
    "    \n",
    "    # x = tfkl.GaussianDropout(0.15)(input_layer)\n",
    "    \n",
    "    # Feature extractor\n",
    "    x = tfkl.Conv1D(256,3,padding='same',activation='swish')(input_layer)\n",
    "    x = tfkl.MaxPooling1D()(x)\n",
    "    x = tfkl.Conv1D(256,3,padding='same',activation='swish')(x)\n",
    "    x = tfkl.GlobalAveragePooling1D()(x)\n",
    "    x = tfkl.Dropout(.2, seed=seed)(x)\n",
    "    \n",
    "    \n",
    "    x = tfkl.Dense(128, activation='swish')(x)\n",
    "    # Classifier\n",
    "    output_layer = tfkl.Dense(n_classes, activation='softmax')(x)\n",
    "\n",
    "    # Connect input and output through the Model class\n",
    "    model = tfk.Model(inputs=input_layer, outputs=output_layer, name='model')\n",
    "\n",
    "    # Return the model\n",
    "    return model"
   ]
  },
  {
   "cell_type": "code",
   "execution_count": 126,
   "metadata": {
    "execution": {
     "iopub.execute_input": "2022-12-13T14:36:07.728883Z",
     "iopub.status.busy": "2022-12-13T14:36:07.728353Z",
     "iopub.status.idle": "2022-12-13T14:38:23.265948Z",
     "shell.execute_reply": "2022-12-13T14:38:23.265060Z",
     "shell.execute_reply.started": "2022-12-13T14:36:07.728835Z"
    }
   },
   "outputs": [
    {
     "name": "stdout",
     "output_type": "stream",
     "text": [
      "Epoch 1/200\n",
      "145/145 [==============================] - 2s 12ms/step - loss: 0.7138 - accuracy: 0.5068 - val_loss: 0.9305 - val_accuracy: 0.5486\n",
      "Epoch 2/200\n",
      "145/145 [==============================] - 1s 10ms/step - loss: 0.6051 - accuracy: 0.5665 - val_loss: 0.9275 - val_accuracy: 0.5666\n",
      "Epoch 3/200\n",
      "145/145 [==============================] - 1s 10ms/step - loss: 0.5668 - accuracy: 0.5980 - val_loss: 0.9235 - val_accuracy: 0.6054\n",
      "Epoch 4/200\n",
      "145/145 [==============================] - 2s 11ms/step - loss: 0.5471 - accuracy: 0.6157 - val_loss: 0.9390 - val_accuracy: 0.4564\n",
      "Epoch 5/200\n",
      "145/145 [==============================] - 1s 10ms/step - loss: 0.5548 - accuracy: 0.6109 - val_loss: 0.9239 - val_accuracy: 0.6049\n",
      "Epoch 6/200\n",
      "145/145 [==============================] - 1s 10ms/step - loss: 0.4996 - accuracy: 0.6581 - val_loss: 0.9217 - val_accuracy: 0.6359\n",
      "Epoch 7/200\n",
      "145/145 [==============================] - 2s 11ms/step - loss: 0.4751 - accuracy: 0.6635 - val_loss: 0.9208 - val_accuracy: 0.6495\n",
      "Epoch 8/200\n",
      "145/145 [==============================] - 1s 10ms/step - loss: 0.4583 - accuracy: 0.6754 - val_loss: 0.9197 - val_accuracy: 0.6330\n",
      "Epoch 9/200\n",
      "145/145 [==============================] - 2s 11ms/step - loss: 0.4166 - accuracy: 0.7000 - val_loss: 0.9202 - val_accuracy: 0.6269\n",
      "Epoch 10/200\n",
      "145/145 [==============================] - 1s 10ms/step - loss: 0.4002 - accuracy: 0.7148 - val_loss: 0.9194 - val_accuracy: 0.6403\n",
      "Epoch 11/200\n",
      "145/145 [==============================] - 1s 10ms/step - loss: 0.3920 - accuracy: 0.7213 - val_loss: 0.9184 - val_accuracy: 0.6464\n",
      "Epoch 12/200\n",
      "145/145 [==============================] - 2s 12ms/step - loss: 0.4473 - accuracy: 0.7015 - val_loss: 0.9229 - val_accuracy: 0.6108\n",
      "Epoch 13/200\n",
      "145/145 [==============================] - 2s 11ms/step - loss: 0.4149 - accuracy: 0.7072 - val_loss: 0.9172 - val_accuracy: 0.6547\n",
      "Epoch 14/200\n",
      "145/145 [==============================] - 2s 11ms/step - loss: 0.4162 - accuracy: 0.7032 - val_loss: 0.9222 - val_accuracy: 0.5923\n",
      "Epoch 15/200\n",
      "145/145 [==============================] - 2s 11ms/step - loss: 0.3847 - accuracy: 0.7202 - val_loss: 0.9166 - val_accuracy: 0.6582\n",
      "Epoch 16/200\n",
      "145/145 [==============================] - 2s 11ms/step - loss: 0.3562 - accuracy: 0.7436 - val_loss: 0.9171 - val_accuracy: 0.6569\n",
      "Epoch 17/200\n",
      "145/145 [==============================] - 2s 11ms/step - loss: 0.3932 - accuracy: 0.7244 - val_loss: 0.9197 - val_accuracy: 0.6327\n",
      "Epoch 18/200\n",
      "145/145 [==============================] - 1s 10ms/step - loss: 0.3597 - accuracy: 0.7387 - val_loss: 0.9163 - val_accuracy: 0.6755\n",
      "Epoch 19/200\n",
      "145/145 [==============================] - 1s 10ms/step - loss: 0.3502 - accuracy: 0.7522 - val_loss: 0.9165 - val_accuracy: 0.6584\n",
      "Epoch 20/200\n",
      "145/145 [==============================] - 2s 10ms/step - loss: 0.3294 - accuracy: 0.7621 - val_loss: 0.9149 - val_accuracy: 0.6716\n",
      "Epoch 21/200\n",
      "145/145 [==============================] - 2s 11ms/step - loss: 0.3314 - accuracy: 0.7614 - val_loss: 0.9181 - val_accuracy: 0.6348\n",
      "Epoch 22/200\n",
      "145/145 [==============================] - 1s 10ms/step - loss: 0.3261 - accuracy: 0.7645 - val_loss: 0.9154 - val_accuracy: 0.6829\n",
      "Epoch 23/200\n",
      "145/145 [==============================] - 2s 11ms/step - loss: 0.3121 - accuracy: 0.7777 - val_loss: 0.9156 - val_accuracy: 0.6848\n",
      "Epoch 24/200\n",
      "145/145 [==============================] - 2s 10ms/step - loss: 0.3017 - accuracy: 0.7852 - val_loss: 0.9156 - val_accuracy: 0.6778\n",
      "Epoch 25/200\n",
      "145/145 [==============================] - 2s 10ms/step - loss: 0.2975 - accuracy: 0.7896 - val_loss: 0.9159 - val_accuracy: 0.6762\n",
      "Epoch 26/200\n",
      "145/145 [==============================] - 2s 11ms/step - loss: 0.2907 - accuracy: 0.7943 - val_loss: 0.9148 - val_accuracy: 0.6921\n",
      "Epoch 27/200\n",
      "145/145 [==============================] - 2s 10ms/step - loss: 0.2794 - accuracy: 0.8020 - val_loss: 0.9143 - val_accuracy: 0.6922\n",
      "Epoch 28/200\n",
      "145/145 [==============================] - 2s 11ms/step - loss: 0.2839 - accuracy: 0.7978 - val_loss: 0.9135 - val_accuracy: 0.6968\n",
      "Epoch 29/200\n",
      "145/145 [==============================] - 2s 10ms/step - loss: 0.2658 - accuracy: 0.8140 - val_loss: 0.9139 - val_accuracy: 0.6979\n",
      "Epoch 30/200\n",
      "145/145 [==============================] - 2s 11ms/step - loss: 0.2640 - accuracy: 0.7959 - val_loss: 0.9131 - val_accuracy: 0.6847\n",
      "Epoch 31/200\n",
      "145/145 [==============================] - 2s 10ms/step - loss: 0.2592 - accuracy: 0.7959 - val_loss: 0.9122 - val_accuracy: 0.7027\n",
      "Epoch 32/200\n",
      "145/145 [==============================] - 2s 11ms/step - loss: 0.2462 - accuracy: 0.7968 - val_loss: 0.9071 - val_accuracy: 0.7239\n",
      "Epoch 33/200\n",
      "145/145 [==============================] - 2s 11ms/step - loss: 0.2395 - accuracy: 0.8088 - val_loss: 0.9099 - val_accuracy: 0.7201\n",
      "Epoch 34/200\n",
      "145/145 [==============================] - 2s 10ms/step - loss: 0.2219 - accuracy: 0.8118 - val_loss: 0.9081 - val_accuracy: 0.7248\n",
      "Epoch 35/200\n",
      "145/145 [==============================] - 2s 11ms/step - loss: 0.2170 - accuracy: 0.8266 - val_loss: 0.9096 - val_accuracy: 0.7138\n",
      "Epoch 36/200\n",
      "145/145 [==============================] - 2s 10ms/step - loss: 0.2301 - accuracy: 0.8131 - val_loss: 0.9093 - val_accuracy: 0.7075\n",
      "Epoch 37/200\n",
      "145/145 [==============================] - 2s 11ms/step - loss: 0.2152 - accuracy: 0.8214 - val_loss: 0.9094 - val_accuracy: 0.7166\n",
      "Epoch 38/200\n",
      "145/145 [==============================] - 2s 11ms/step - loss: 0.2012 - accuracy: 0.8328 - val_loss: 0.9101 - val_accuracy: 0.6863\n",
      "Epoch 39/200\n",
      "145/145 [==============================] - 2s 10ms/step - loss: 0.2060 - accuracy: 0.8291 - val_loss: 0.9080 - val_accuracy: 0.7222\n",
      "Epoch 40/200\n",
      "145/145 [==============================] - 1s 10ms/step - loss: 0.1903 - accuracy: 0.8365 - val_loss: 0.9081 - val_accuracy: 0.7244\n",
      "Epoch 41/200\n",
      "145/145 [==============================] - 1s 10ms/step - loss: 0.1900 - accuracy: 0.8359 - val_loss: 0.9076 - val_accuracy: 0.7340\n",
      "Epoch 42/200\n",
      "145/145 [==============================] - 2s 11ms/step - loss: 0.1788 - accuracy: 0.8500 - val_loss: 0.9090 - val_accuracy: 0.7180\n",
      "Epoch 43/200\n",
      "145/145 [==============================] - 2s 10ms/step - loss: 0.1951 - accuracy: 0.8321 - val_loss: 0.9095 - val_accuracy: 0.7107\n",
      "Epoch 44/200\n",
      "145/145 [==============================] - 2s 11ms/step - loss: 0.1728 - accuracy: 0.8506 - val_loss: 0.9070 - val_accuracy: 0.7311\n",
      "Epoch 45/200\n",
      "145/145 [==============================] - 1s 10ms/step - loss: 0.1701 - accuracy: 0.8553 - val_loss: 0.9077 - val_accuracy: 0.7134\n",
      "Epoch 46/200\n",
      "145/145 [==============================] - 1s 10ms/step - loss: 0.1718 - accuracy: 0.8531 - val_loss: 0.9082 - val_accuracy: 0.7241\n",
      "Epoch 47/200\n",
      "145/145 [==============================] - 2s 11ms/step - loss: 0.1640 - accuracy: 0.8607 - val_loss: 0.9052 - val_accuracy: 0.7473\n",
      "Epoch 48/200\n",
      "145/145 [==============================] - 1s 10ms/step - loss: 0.1632 - accuracy: 0.8611 - val_loss: 0.9070 - val_accuracy: 0.7308\n",
      "Epoch 49/200\n",
      "145/145 [==============================] - 2s 11ms/step - loss: 0.1617 - accuracy: 0.8655 - val_loss: 0.9057 - val_accuracy: 0.7368\n",
      "Epoch 50/200\n",
      "145/145 [==============================] - 2s 10ms/step - loss: 0.1637 - accuracy: 0.8568 - val_loss: 0.9074 - val_accuracy: 0.7206\n",
      "Epoch 51/200\n",
      "145/145 [==============================] - 1s 10ms/step - loss: 0.1599 - accuracy: 0.8590 - val_loss: 0.9062 - val_accuracy: 0.7351\n",
      "Epoch 52/200\n",
      "145/145 [==============================] - 2s 11ms/step - loss: 0.1524 - accuracy: 0.8659 - val_loss: 0.9062 - val_accuracy: 0.7435\n",
      "Epoch 53/200\n",
      "145/145 [==============================] - 2s 11ms/step - loss: 0.1376 - accuracy: 0.8787 - val_loss: 0.9057 - val_accuracy: 0.7454\n",
      "Epoch 54/200\n",
      "145/145 [==============================] - 2s 10ms/step - loss: 0.1476 - accuracy: 0.8706 - val_loss: 0.9082 - val_accuracy: 0.7111\n",
      "Epoch 55/200\n",
      "145/145 [==============================] - 2s 10ms/step - loss: 0.1515 - accuracy: 0.8690 - val_loss: 0.9073 - val_accuracy: 0.7319\n",
      "Epoch 56/200\n",
      "145/145 [==============================] - 2s 11ms/step - loss: 0.1342 - accuracy: 0.8829 - val_loss: 0.9061 - val_accuracy: 0.7398\n",
      "Epoch 57/200\n",
      "145/145 [==============================] - 2s 11ms/step - loss: 0.1264 - accuracy: 0.8887 - val_loss: 0.9072 - val_accuracy: 0.7250\n",
      "Epoch 58/200\n",
      "145/145 [==============================] - 2s 10ms/step - loss: 0.1279 - accuracy: 0.8876 - val_loss: 0.9092 - val_accuracy: 0.7213\n",
      "Epoch 59/200\n",
      "145/145 [==============================] - 1s 10ms/step - loss: 0.1290 - accuracy: 0.8876 - val_loss: 0.9088 - val_accuracy: 0.7160\n",
      "Epoch 60/200\n",
      "145/145 [==============================] - 2s 11ms/step - loss: 0.1230 - accuracy: 0.8897 - val_loss: 0.9073 - val_accuracy: 0.7227\n",
      "Epoch 61/200\n",
      "145/145 [==============================] - 2s 10ms/step - loss: 0.1165 - accuracy: 0.8949 - val_loss: 0.9069 - val_accuracy: 0.7237\n",
      "Epoch 62/200\n",
      "145/145 [==============================] - 2s 11ms/step - loss: 0.1170 - accuracy: 0.8973 - val_loss: 0.9073 - val_accuracy: 0.7388\n",
      "\n",
      "Epoch 00062: ReduceLROnPlateau reducing learning rate to 0.00010000000474974513.\n",
      "Epoch 63/200\n",
      "145/145 [==============================] - 2s 10ms/step - loss: 0.1047 - accuracy: 0.9064 - val_loss: 0.9069 - val_accuracy: 0.7396\n",
      "Epoch 64/200\n",
      "145/145 [==============================] - 2s 11ms/step - loss: 0.1031 - accuracy: 0.9082 - val_loss: 0.9068 - val_accuracy: 0.7398\n",
      "Epoch 65/200\n",
      "145/145 [==============================] - 2s 10ms/step - loss: 0.1019 - accuracy: 0.9086 - val_loss: 0.9067 - val_accuracy: 0.7412\n",
      "Epoch 66/200\n",
      "145/145 [==============================] - 2s 11ms/step - loss: 0.1013 - accuracy: 0.9092 - val_loss: 0.9067 - val_accuracy: 0.7416\n",
      "Epoch 67/200\n",
      "145/145 [==============================] - 2s 10ms/step - loss: 0.1004 - accuracy: 0.9099 - val_loss: 0.9068 - val_accuracy: 0.7394\n",
      "Epoch 68/200\n",
      "145/145 [==============================] - 2s 10ms/step - loss: 0.0994 - accuracy: 0.9107 - val_loss: 0.9067 - val_accuracy: 0.7393\n",
      "Epoch 69/200\n",
      "145/145 [==============================] - 1s 10ms/step - loss: 0.0992 - accuracy: 0.9123 - val_loss: 0.9071 - val_accuracy: 0.7346\n",
      "Epoch 70/200\n",
      "145/145 [==============================] - 2s 10ms/step - loss: 0.0986 - accuracy: 0.9109 - val_loss: 0.9072 - val_accuracy: 0.7376\n",
      "Epoch 71/200\n",
      "145/145 [==============================] - 2s 11ms/step - loss: 0.0988 - accuracy: 0.9112 - val_loss: 0.9072 - val_accuracy: 0.7383\n",
      "Epoch 72/200\n",
      "145/145 [==============================] - 2s 10ms/step - loss: 0.0986 - accuracy: 0.9119 - val_loss: 0.9068 - val_accuracy: 0.7400\n",
      "Epoch 73/200\n",
      "145/145 [==============================] - 2s 11ms/step - loss: 0.0976 - accuracy: 0.9126 - val_loss: 0.9067 - val_accuracy: 0.7378\n",
      "Epoch 74/200\n",
      "145/145 [==============================] - 2s 11ms/step - loss: 0.0962 - accuracy: 0.9131 - val_loss: 0.9063 - val_accuracy: 0.7398\n",
      "Epoch 75/200\n",
      "145/145 [==============================] - 1s 10ms/step - loss: 0.0960 - accuracy: 0.9129 - val_loss: 0.9064 - val_accuracy: 0.7402\n",
      "Epoch 76/200\n",
      "145/145 [==============================] - 2s 10ms/step - loss: 0.0967 - accuracy: 0.9130 - val_loss: 0.9069 - val_accuracy: 0.7363\n",
      "Epoch 77/200\n",
      "145/145 [==============================] - 2s 10ms/step - loss: 0.0961 - accuracy: 0.9140 - val_loss: 0.9060 - val_accuracy: 0.7419\n",
      "\n",
      "Epoch 00077: ReduceLROnPlateau reducing learning rate to 1.0000000474974514e-05.\n",
      "Epoch 78/200\n",
      "145/145 [==============================] - 2s 11ms/step - loss: 0.0956 - accuracy: 0.9143 - val_loss: 0.9060 - val_accuracy: 0.7413\n",
      "Epoch 79/200\n",
      "145/145 [==============================] - 2s 10ms/step - loss: 0.0949 - accuracy: 0.9152 - val_loss: 0.9061 - val_accuracy: 0.7414\n",
      "Epoch 80/200\n",
      "145/145 [==============================] - 2s 10ms/step - loss: 0.0953 - accuracy: 0.9152 - val_loss: 0.9061 - val_accuracy: 0.7411\n",
      "Epoch 81/200\n",
      "145/145 [==============================] - 2s 10ms/step - loss: 0.0949 - accuracy: 0.9144 - val_loss: 0.9061 - val_accuracy: 0.7416\n",
      "Epoch 82/200\n",
      "145/145 [==============================] - 2s 10ms/step - loss: 0.0950 - accuracy: 0.9144 - val_loss: 0.9061 - val_accuracy: 0.7414\n",
      "Epoch 83/200\n",
      "145/145 [==============================] - 2s 10ms/step - loss: 0.0941 - accuracy: 0.9152 - val_loss: 0.9061 - val_accuracy: 0.7420\n",
      "Epoch 84/200\n",
      "145/145 [==============================] - 2s 11ms/step - loss: 0.0936 - accuracy: 0.9154 - val_loss: 0.9061 - val_accuracy: 0.7413\n",
      "Epoch 85/200\n",
      "145/145 [==============================] - 2s 11ms/step - loss: 0.0941 - accuracy: 0.9152 - val_loss: 0.9061 - val_accuracy: 0.7411\n",
      "Epoch 86/200\n",
      "145/145 [==============================] - 2s 10ms/step - loss: 0.0939 - accuracy: 0.9149 - val_loss: 0.9062 - val_accuracy: 0.7410\n",
      "Epoch 87/200\n",
      "145/145 [==============================] - 1s 10ms/step - loss: 0.0939 - accuracy: 0.9157 - val_loss: 0.9061 - val_accuracy: 0.7409\n"
     ]
    }
   ],
   "source": [
    "model = build_model(X_train.shape[1:], 12)\n",
    "\n",
    "categorical_loss = tfk.losses.CategoricalCrossentropy()\n",
    "\n",
    "model.compile(loss=soft_f1_loss, optimizer=tfk.optimizers.Adam(learning_rate=lr), metrics='accuracy')\n",
    "\n",
    "history = model.fit(\n",
    "    x=X_train,\n",
    "    y=y_train,\n",
    "    batch_size=batch_size,\n",
    "    epochs=epochs,\n",
    "    callbacks=callbacks,\n",
    "    validation_data=(X_val, y_val),\n",
    "    shuffle=True,\n",
    "    class_weight=w_s,\n",
    "    workers=4,\n",
    "    use_multiprocessing=True,\n",
    ")"
   ]
  },
  {
   "cell_type": "code",
   "execution_count": 127,
   "metadata": {
    "execution": {
     "iopub.execute_input": "2022-12-13T14:38:43.432362Z",
     "iopub.status.busy": "2022-12-13T14:38:43.431860Z",
     "iopub.status.idle": "2022-12-13T14:38:43.678805Z",
     "shell.execute_reply": "2022-12-13T14:38:43.676889Z",
     "shell.execute_reply.started": "2022-12-13T14:38:43.432322Z"
    }
   },
   "outputs": [
    {
     "name": "stdout",
     "output_type": "stream",
     "text": [
      "0.7473467588424683\n",
      "0.9156774878501892\n"
     ]
    },
    {
     "data": {
      "image/png": "[encoded data removed]",
      "text/plain": [
       "<Figure size 864x432 with 1 Axes>"
      ]
     },
     "metadata": {},
     "output_type": "display_data"
    }
   ],
   "source": [
    "print(np.max(history.history['val_accuracy']))\n",
    "print(np.max(history.history['accuracy']))\n",
    "x_axis = np.arange(len(history.history['val_accuracy']))\n",
    "\n",
    "plt.figure(figsize=(12, 6))\n",
    "plt.title(\"Accuracy\")\n",
    "plt.plot(x_axis, history.history[\"accuracy\"], label=\"train accuracy\")\n",
    "plt.plot(x_axis, history.history[\"val_accuracy\"], label=\"validation accuracy\")\n",
    "\n",
    "\n",
    "plt.legend()\n",
    "plt.xlabel(\"Epochs\")\n",
    "plt.ylabel(\"Accuracy\")\n",
    "plt.show()"
   ]
  },
  {
   "cell_type": "code",
   "execution_count": 128,
   "metadata": {
    "execution": {
     "iopub.execute_input": "2022-12-13T14:38:52.823979Z",
     "iopub.status.busy": "2022-12-13T14:38:52.823613Z",
     "iopub.status.idle": "2022-12-13T14:38:53.415818Z",
     "shell.execute_reply": "2022-12-13T14:38:53.414835Z",
     "shell.execute_reply.started": "2022-12-13T14:38:52.823948Z"
    }
   },
   "outputs": [],
   "source": [
    "c_m, report = evaluate_model(model, X_val, y_val)"
   ]
  },
  {
   "cell_type": "code",
   "execution_count": 129,
   "metadata": {
    "execution": {
     "iopub.execute_input": "2022-12-13T14:38:56.026575Z",
     "iopub.status.busy": "2022-12-13T14:38:56.026224Z",
     "iopub.status.idle": "2022-12-13T14:38:56.711431Z",
     "shell.execute_reply": "2022-12-13T14:38:56.710527Z",
     "shell.execute_reply.started": "2022-12-13T14:38:56.026545Z"
    }
   },
   "outputs": [
    {
     "data": {
      "image/png": "[encoded data removed]",
      "text/plain": [
       "<Figure size 864x720 with 2 Axes>"
      ]
     },
     "metadata": {},
     "output_type": "display_data"
    }
   ],
   "source": [
    "plt.figure(figsize=(12, 10))\n",
    "sns.heatmap(c_m, cmap='Blues', annot=True)\n",
    "plt.show()"
   ]
  },
  {
   "cell_type": "code",
   "execution_count": 130,
   "metadata": {
    "execution": {
     "iopub.execute_input": "2022-12-13T14:39:00.937680Z",
     "iopub.status.busy": "2022-12-13T14:39:00.937056Z",
     "iopub.status.idle": "2022-12-13T14:39:00.968081Z",
     "shell.execute_reply": "2022-12-13T14:39:00.966989Z",
     "shell.execute_reply.started": "2022-12-13T14:39:00.937626Z"
    }
   },
   "outputs": [
    {
     "data": {
      "text/html": [
       "<div>\n",
       "<style scoped>\n",
       "    .dataframe tbody tr th:only-of-type {\n",
       "        vertical-align: middle;\n",
       "    }\n",
       "\n",
       "    .dataframe tbody tr th {\n",
       "        vertical-align: top;\n",
       "    }\n",
       "\n",
       "    .dataframe thead th {\n",
       "        text-align: right;\n",
       "    }\n",
       "</style>\n",
       "<table border=\"1\" class=\"dataframe\">\n",
       "  <thead>\n",
       "    <tr style=\"text-align: right;\">\n",
       "      <th></th>\n",
       "      <th>0</th>\n",
       "      <th>1</th>\n",
       "      <th>2</th>\n",
       "      <th>3</th>\n",
       "      <th>4</th>\n",
       "      <th>5</th>\n",
       "      <th>6</th>\n",
       "      <th>7</th>\n",
       "      <th>8</th>\n",
       "      <th>9</th>\n",
       "      <th>10</th>\n",
       "      <th>11</th>\n",
       "    </tr>\n",
       "  </thead>\n",
       "  <tbody>\n",
       "    <tr>\n",
       "      <th>precision</th>\n",
       "      <td>0.496855</td>\n",
       "      <td>0.835991</td>\n",
       "      <td>0.951930</td>\n",
       "      <td>0.597434</td>\n",
       "      <td>0.661538</td>\n",
       "      <td>0.560096</td>\n",
       "      <td>0.886250</td>\n",
       "      <td>0.628571</td>\n",
       "      <td>0.992593</td>\n",
       "      <td>0.675949</td>\n",
       "      <td>0.988669</td>\n",
       "      <td>0.885714</td>\n",
       "    </tr>\n",
       "    <tr>\n",
       "      <th>recall</th>\n",
       "      <td>0.552448</td>\n",
       "      <td>0.589085</td>\n",
       "      <td>0.992237</td>\n",
       "      <td>0.484879</td>\n",
       "      <td>0.438776</td>\n",
       "      <td>0.296815</td>\n",
       "      <td>0.859915</td>\n",
       "      <td>0.337423</td>\n",
       "      <td>0.883031</td>\n",
       "      <td>0.899639</td>\n",
       "      <td>0.930667</td>\n",
       "      <td>0.395745</td>\n",
       "    </tr>\n",
       "    <tr>\n",
       "      <th>f1-score</th>\n",
       "      <td>0.523179</td>\n",
       "      <td>0.691149</td>\n",
       "      <td>0.971666</td>\n",
       "      <td>0.535304</td>\n",
       "      <td>0.527607</td>\n",
       "      <td>0.388010</td>\n",
       "      <td>0.872884</td>\n",
       "      <td>0.439122</td>\n",
       "      <td>0.934612</td>\n",
       "      <td>0.771915</td>\n",
       "      <td>0.958791</td>\n",
       "      <td>0.547059</td>\n",
       "    </tr>\n",
       "    <tr>\n",
       "      <th>support</th>\n",
       "      <td>143.000000</td>\n",
       "      <td>623.000000</td>\n",
       "      <td>1417.000000</td>\n",
       "      <td>2017.000000</td>\n",
       "      <td>294.000000</td>\n",
       "      <td>785.000000</td>\n",
       "      <td>1649.000000</td>\n",
       "      <td>326.000000</td>\n",
       "      <td>607.000000</td>\n",
       "      <td>4155.000000</td>\n",
       "      <td>375.000000</td>\n",
       "      <td>235.000000</td>\n",
       "    </tr>\n",
       "  </tbody>\n",
       "</table>\n",
       "</div>"
      ],
      "text/plain": [
       "                    0           1            2            3           4  \\\n",
       "precision    0.496855    0.835991     0.951930     0.597434    0.661538   \n",
       "recall       0.552448    0.589085     0.992237     0.484879    0.438776   \n",
       "f1-score     0.523179    0.691149     0.971666     0.535304    0.527607   \n",
       "support    143.000000  623.000000  1417.000000  2017.000000  294.000000   \n",
       "\n",
       "                    5            6           7           8            9  \\\n",
       "precision    0.560096     0.886250    0.628571    0.992593     0.675949   \n",
       "recall       0.296815     0.859915    0.337423    0.883031     0.899639   \n",
       "f1-score     0.388010     0.872884    0.439122    0.934612     0.771915   \n",
       "support    785.000000  1649.000000  326.000000  607.000000  4155.000000   \n",
       "\n",
       "                   10          11  \n",
       "precision    0.988669    0.885714  \n",
       "recall       0.930667    0.395745  \n",
       "f1-score     0.958791    0.547059  \n",
       "support    375.000000  235.000000  "
      ]
     },
     "execution_count": 130,
     "metadata": {},
     "output_type": "execute_result"
    }
   ],
   "source": [
    "report"
   ]
  },
  {
   "cell_type": "code",
   "execution_count": 131,
   "metadata": {
    "execution": {
     "iopub.execute_input": "2022-12-13T14:39:04.605497Z",
     "iopub.status.busy": "2022-12-13T14:39:04.605042Z",
     "iopub.status.idle": "2022-12-13T14:39:06.110152Z",
     "shell.execute_reply": "2022-12-13T14:39:06.109163Z",
     "shell.execute_reply.started": "2022-12-13T14:39:04.605459Z"
    }
   },
   "outputs": [],
   "source": [
    "model.save('models/')"
   ]
  }
 ],
 "metadata": {
  "kernelspec": {
   "display_name": "Python 3 (ipykernel)",
   "language": "python",
   "name": "python3"
  },
  "language_info": {
   "codemirror_mode": {
    "name": "ipython",
    "version": 3
   },
   "file_extension": ".py",
   "mimetype": "text/x-python",
   "name": "python",
   "nbconvert_exporter": "python",
   "pygments_lexer": "ipython3",
   "version": "3.8.13"
  }
 },
 "nbformat": 4,
 "nbformat_minor": 4
}
