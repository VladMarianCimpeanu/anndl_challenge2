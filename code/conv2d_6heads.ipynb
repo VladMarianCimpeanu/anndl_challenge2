{
 "cells": [
  {
   "cell_type": "markdown",
   "metadata": {},
   "source": [
    "This notebook is related to the model mentioned in the 5th section of the report, the one which aims at extracting features both from single time series (using 6 heads) and the entire set of them, concatenating results of the previous phase.  "
   ]
  },
  {
   "cell_type": "code",
   "execution_count": 17,
   "metadata": {
    "execution": {
     "iopub.execute_input": "2022-12-21T20:48:44.131393Z",
     "iopub.status.busy": "2022-12-21T20:48:44.131005Z",
     "iopub.status.idle": "2022-12-21T20:48:44.139934Z",
     "shell.execute_reply": "2022-12-21T20:48:44.138829Z",
     "shell.execute_reply.started": "2022-12-21T20:48:44.131353Z"
    }
   },
   "outputs": [],
   "source": [
    "import numpy as np \n",
    "import pandas as pd \n",
    "import os\n",
    "import matplotlib.pyplot as plt\n",
    "import seaborn as sns\n",
    "import tensorflow as tf\n",
    "import keras.backend as K\n",
    "import random\n",
    "\n",
    "from sklearn.model_selection import train_test_split, KFold\n",
    "from sklearn.metrics import classification_report, confusion_matrix\n",
    "\n",
    "tfk = tf.keras\n",
    "tfkl = tfk.layers\n",
    "seed = 100\n",
    "plt.style.use('ggplot')\n"
   ]
  },
  {
   "cell_type": "code",
   "execution_count": 18,
   "metadata": {
    "execution": {
     "iopub.execute_input": "2022-12-21T20:48:44.143241Z",
     "iopub.status.busy": "2022-12-21T20:48:44.142287Z",
     "iopub.status.idle": "2022-12-21T20:48:44.219797Z",
     "shell.execute_reply": "2022-12-21T20:48:44.218664Z",
     "shell.execute_reply.started": "2022-12-21T20:48:44.143200Z"
    }
   },
   "outputs": [
    {
     "data": {
      "text/plain": [
       "(87024, 36, 6)"
      ]
     },
     "execution_count": 18,
     "metadata": {},
     "output_type": "execute_result"
    }
   ],
   "source": [
    "X = np.load(f'./augmented/X_stride1.npy')\n",
    "y = np.load(f'./augmented/y_stride1.npy')\n",
    "\n",
    "X.shape"
   ]
  },
  {
   "cell_type": "markdown",
   "metadata": {},
   "source": [
    "## Compute weights for classes"
   ]
  },
  {
   "cell_type": "code",
   "execution_count": 19,
   "metadata": {
    "execution": {
     "iopub.execute_input": "2022-12-21T20:48:44.221900Z",
     "iopub.status.busy": "2022-12-21T20:48:44.221522Z",
     "iopub.status.idle": "2022-12-21T20:48:44.230919Z",
     "shell.execute_reply": "2022-12-21T20:48:44.230005Z",
     "shell.execute_reply.started": "2022-12-21T20:48:44.221864Z"
    }
   },
   "outputs": [
    {
     "data": {
      "text/plain": [
       "{0: 6.099243061396131,\n",
       " 1: 1.6508081038015026,\n",
       " 2: 0.7487867836861125,\n",
       " 3: 0.5300782106571157,\n",
       " 4: 3.300864815657715,\n",
       " 5: 1.3250502466654486,\n",
       " 6: 0.6455977922193537,\n",
       " 7: 3.0053874844591792,\n",
       " 8: 1.6924154025670946,\n",
       " 9: 0.2595840641443247,\n",
       " 10: 2.649616368286445,\n",
       " 11: 4.026651860077735}"
      ]
     },
     "execution_count": 19,
     "metadata": {},
     "output_type": "execute_result"
    }
   ],
   "source": [
    "counter = np.bincount(y)\n",
    "frequencies = 1 / counter\n",
    "weights = frequencies * (y.shape[0] / frequencies.shape[0])\n",
    "\n",
    "w_s = {}\n",
    "for i, w in enumerate(weights):\n",
    "    w_s[i] = w\n",
    "w_s"
   ]
  },
  {
   "cell_type": "code",
   "execution_count": 20,
   "metadata": {
    "execution": {
     "iopub.execute_input": "2022-12-21T20:48:44.233889Z",
     "iopub.status.busy": "2022-12-21T20:48:44.233272Z",
     "iopub.status.idle": "2022-12-21T20:48:44.243225Z",
     "shell.execute_reply": "2022-12-21T20:48:44.242057Z",
     "shell.execute_reply.started": "2022-12-21T20:48:44.233838Z"
    }
   },
   "outputs": [
    {
     "data": {
      "text/plain": [
       "array([ 1189.,  4393.,  9685., 13681.,  2197.,  5473., 11233.,  2413.,\n",
       "        4285., 27937.,  2737.,  1801.])"
      ]
     },
     "execution_count": 20,
     "metadata": {},
     "output_type": "execute_result"
    }
   ],
   "source": [
    "1 / frequencies"
   ]
  },
  {
   "cell_type": "code",
   "execution_count": 21,
   "metadata": {
    "execution": {
     "iopub.execute_input": "2022-12-21T20:48:44.245629Z",
     "iopub.status.busy": "2022-12-21T20:48:44.244751Z",
     "iopub.status.idle": "2022-12-21T20:48:44.254199Z",
     "shell.execute_reply": "2022-12-21T20:48:44.253254Z",
     "shell.execute_reply.started": "2022-12-21T20:48:44.245590Z"
    }
   },
   "outputs": [],
   "source": [
    "def evaluate_model(m, X_val, y_val):\n",
    "    \"\"\"\n",
    "    This method computes the confusion matrix and recall, precision and f1-score for each class.\n",
    "    :param m: model to evaluate.\n",
    "    :param X_val: samples to use for the evaluation. X_val cannot be a tf.Dataset object.\n",
    "    :param y_val: labels for each element of X_val. y_val cannot be a tf.Dataset object.\n",
    "    :return pandas.DataFrame containing the confusion matrix and pandas.Dataframe whose rows \n",
    "    are recall,precision, f1-score and support, whereas columns are the labels.\n",
    "    \"\"\"\n",
    "    y_pred = m.predict(X_val)\n",
    "    y_pred = tf.argmax(y_pred, axis=1)\n",
    "    y_true = tf.argmax(y_val, axis=1)\n",
    "    \n",
    "    c_m = pd.DataFrame(confusion_matrix(y_true, y_pred, normalize='true'))\n",
    "    report = classification_report(y_true, y_pred, output_dict=True, zero_division=0)\n",
    "    report = pd.DataFrame(report)\n",
    "    report = report.drop(['accuracy', 'macro avg', 'weighted avg'], axis=1)\n",
    "    \n",
    "    return c_m, report"
   ]
  },
  {
   "cell_type": "markdown",
   "metadata": {},
   "source": [
    "## Split data\n",
    "loaded data use sliding window with stride 1, this means there are multiple samples sharing the same subset of timestamps. Samples sharing the same subset of timestamp must stay in the same set, otherwise we overfit the validation set and we vanish the help given by the validation set.\n"
   ]
  },
  {
   "cell_type": "code",
   "execution_count": 22,
   "metadata": {
    "execution": {
     "iopub.execute_input": "2022-12-21T20:48:44.256062Z",
     "iopub.status.busy": "2022-12-21T20:48:44.255711Z",
     "iopub.status.idle": "2022-12-21T20:48:44.594515Z",
     "shell.execute_reply": "2022-12-21T20:48:44.593411Z",
     "shell.execute_reply.started": "2022-12-21T20:48:44.256028Z"
    }
   },
   "outputs": [
    {
     "name": "stdout",
     "output_type": "stream",
     "text": [
      "(73966, 36, 6) (12626, 36, 6) (73966, 12) (12626, 12)\n"
     ]
    }
   ],
   "source": [
    "df = pd.DataFrame({'y': y})\n",
    "starting_indexes = list(df.drop_duplicates(keep='first').index.values)\n",
    "ending_indexes = starting_indexes[1:] + [df.index.values[-1] + 1]\n",
    "\n",
    "X_train = None\n",
    "X_val = None\n",
    "\n",
    "y_train = None\n",
    "y_val = None\n",
    "\n",
    "train_percentage = 0.85\n",
    "\n",
    "\n",
    "for label, starting_index, ending_index in zip(range(12), starting_indexes, ending_indexes):\n",
    "    \n",
    "    split_index = int(train_percentage * (ending_index - starting_index))\n",
    "    split_index += starting_index\n",
    "    assert split_index + 36 > starting_index\n",
    "    if X_train is None:\n",
    "        X_train = X[starting_index: split_index, :, :].copy()\n",
    "        y_train = y[starting_index: split_index].copy()\n",
    "        \n",
    "        X_val = X[split_index + 36: ending_index, :, :].copy()\n",
    "        y_val = y[split_index + 36: ending_index].copy()\n",
    "    else:\n",
    "        X_train = np.append(X_train, X[starting_index: split_index, :, :], axis=0)\n",
    "        y_train = np.append(y_train, y[starting_index: split_index])\n",
    "        \n",
    "        X_val = np.append(X_val, X[split_index + 36: ending_index, :, :], axis=0)\n",
    "        y_val = np.append(y_val, y[split_index + 36: ending_index])\n",
    "\n",
    "        \n",
    "y_train = tfk.utils.to_categorical(y_train)\n",
    "y_val = tfk.utils.to_categorical(y_val)\n",
    "\n",
    "print(X_train.shape, X_val.shape, y_train.shape, y_val.shape)"
   ]
  },
  {
   "cell_type": "code",
   "execution_count": 23,
   "metadata": {
    "execution": {
     "iopub.execute_input": "2022-12-21T20:48:44.596768Z",
     "iopub.status.busy": "2022-12-21T20:48:44.596047Z",
     "iopub.status.idle": "2022-12-21T20:48:44.603549Z",
     "shell.execute_reply": "2022-12-21T20:48:44.602585Z",
     "shell.execute_reply.started": "2022-12-21T20:48:44.596724Z"
    }
   },
   "outputs": [],
   "source": [
    "epochs = 300\n",
    "batch_size = 512\n",
    "lr = 1e-3\n",
    "\n",
    "e_s = tfk.callbacks.EarlyStopping(\n",
    "    monitor='val_accuracy',\n",
    "    mode='max',\n",
    "    restore_best_weights=True,\n",
    "    patience=40\n",
    ")\n",
    "\n",
    "r_LR = tfk.callbacks.ReduceLROnPlateau(\n",
    "    monitor='val_accuracy',\n",
    "    factor=0.1,\n",
    "    patience=15,\n",
    "    mode='max',\n",
    "    verbose=1,\n",
    "    min_lr=1e-5\n",
    ")\n",
    "\n",
    "\n",
    "callbacks = [e_s, r_LR]"
   ]
  },
  {
   "cell_type": "code",
   "execution_count": 24,
   "metadata": {
    "execution": {
     "iopub.execute_input": "2022-12-21T20:48:44.608483Z",
     "iopub.status.busy": "2022-12-21T20:48:44.608091Z",
     "iopub.status.idle": "2022-12-21T20:48:44.618997Z",
     "shell.execute_reply": "2022-12-21T20:48:44.618002Z",
     "shell.execute_reply.started": "2022-12-21T20:48:44.608444Z"
    }
   },
   "outputs": [],
   "source": [
    "def build_model(input_shape, n_classes):\n",
    "    # Build the neural network layer by layer\n",
    "    input_layer = tfkl.Input(shape=input_shape, name='Input')\n",
    "    x = tfkl.GaussianDropout(0.05)(input_layer)\n",
    "    \n",
    "    #Feature extractor\n",
    "    convs = []\n",
    "    for i in range(input_shape[1]):\n",
    "        t = x[:, :, i]\n",
    "        t = t[:, :, np.newaxis]\n",
    "        t = tfkl.Conv1D(128,3,padding='same',activation='relu')(t)\n",
    "        t = tfkl.MaxPooling1D()(t)\n",
    "        t = tfkl.Conv1D(128,3,padding='same',activation='relu')(t)\n",
    "        convs.append(t)\n",
    "    \n",
    "    x = tfkl.Concatenate()(convs)\n",
    "    x = tfkl.Reshape((18, 128, 6))(x)\n",
    "    x = tfkl.Permute((1, 3, 2))(x)\n",
    "    x = tfkl.Conv2D(128, (4, 6), padding='same', activation='relu')(x)\n",
    "    x = tfkl.GlobalAveragePooling2D()(x)\n",
    "    \n",
    "    #Fully connected part\n",
    "    x = tfkl.Dropout(.1, seed=seed)(x)\n",
    "    x = tfkl.Dense(128, activation='relu')(x)\n",
    "    \n",
    "    #Classifier\n",
    "    output_layer = tfkl.Dense(n_classes, activation='softmax')(x)\n",
    "    model = tfk.Model(inputs=input_layer, outputs=output_layer, name='model')\n",
    "    return model"
   ]
  },
  {
   "cell_type": "code",
   "execution_count": 25,
   "metadata": {
    "execution": {
     "iopub.execute_input": "2022-12-21T20:48:44.620784Z",
     "iopub.status.busy": "2022-12-21T20:48:44.620228Z",
     "iopub.status.idle": "2022-12-21T21:02:19.597640Z",
     "shell.execute_reply": "2022-12-21T21:02:19.596600Z",
     "shell.execute_reply.started": "2022-12-21T20:48:44.620746Z"
    }
   },
   "outputs": [
    {
     "name": "stdout",
     "output_type": "stream",
     "text": [
      "Epoch 1/300\n",
      "145/145 [==============================] - 7s 43ms/step - loss: 1.8934 - accuracy: 0.2544 - val_loss: 1.8336 - val_accuracy: 0.3439\n",
      "Epoch 2/300\n",
      "145/145 [==============================] - 6s 42ms/step - loss: 1.3493 - accuracy: 0.3821 - val_loss: 2.0655 - val_accuracy: 0.3775\n",
      "Epoch 3/300\n",
      "145/145 [==============================] - 6s 41ms/step - loss: 1.1664 - accuracy: 0.4493 - val_loss: 1.8046 - val_accuracy: 0.3927\n",
      "Epoch 4/300\n",
      "145/145 [==============================] - 6s 41ms/step - loss: 1.0542 - accuracy: 0.4858 - val_loss: 1.6456 - val_accuracy: 0.4065\n",
      "Epoch 5/300\n",
      "145/145 [==============================] - 6s 41ms/step - loss: 0.9642 - accuracy: 0.5084 - val_loss: 1.5765 - val_accuracy: 0.4554\n",
      "Epoch 6/300\n",
      "145/145 [==============================] - 6s 41ms/step - loss: 0.8696 - accuracy: 0.5363 - val_loss: 3.5063 - val_accuracy: 0.3963\n",
      "Epoch 7/300\n",
      "145/145 [==============================] - 6s 43ms/step - loss: 0.9938 - accuracy: 0.4999 - val_loss: 1.6797 - val_accuracy: 0.4423\n",
      "Epoch 8/300\n",
      "145/145 [==============================] - 6s 41ms/step - loss: 0.7969 - accuracy: 0.5579 - val_loss: 1.5758 - val_accuracy: 0.4757\n",
      "Epoch 9/300\n",
      "145/145 [==============================] - 6s 41ms/step - loss: 0.7226 - accuracy: 0.5858 - val_loss: 1.4245 - val_accuracy: 0.5070\n",
      "Epoch 10/300\n",
      "145/145 [==============================] - 6s 41ms/step - loss: 0.6959 - accuracy: 0.6012 - val_loss: 1.5178 - val_accuracy: 0.5256\n",
      "Epoch 11/300\n",
      "145/145 [==============================] - 6s 41ms/step - loss: 0.6011 - accuracy: 0.6403 - val_loss: 1.6005 - val_accuracy: 0.5328\n",
      "Epoch 12/300\n",
      "145/145 [==============================] - 6s 41ms/step - loss: 0.5612 - accuracy: 0.6648 - val_loss: 1.8957 - val_accuracy: 0.5543\n",
      "Epoch 13/300\n",
      "145/145 [==============================] - 6s 41ms/step - loss: 0.5311 - accuracy: 0.6846 - val_loss: 1.4909 - val_accuracy: 0.5928\n",
      "Epoch 14/300\n",
      "145/145 [==============================] - 6s 41ms/step - loss: 0.4545 - accuracy: 0.7127 - val_loss: 1.5681 - val_accuracy: 0.5832\n",
      "Epoch 15/300\n",
      "145/145 [==============================] - 6s 41ms/step - loss: 0.4180 - accuracy: 0.7371 - val_loss: 3.6490 - val_accuracy: 0.4894\n",
      "Epoch 16/300\n",
      "145/145 [==============================] - 6s 41ms/step - loss: 0.6694 - accuracy: 0.6648 - val_loss: 1.6112 - val_accuracy: 0.6029\n",
      "Epoch 17/300\n",
      "145/145 [==============================] - 6s 41ms/step - loss: 0.3821 - accuracy: 0.7486 - val_loss: 1.6630 - val_accuracy: 0.5918\n",
      "Epoch 18/300\n",
      "145/145 [==============================] - 6s 42ms/step - loss: 0.3210 - accuracy: 0.7790 - val_loss: 1.7859 - val_accuracy: 0.6144\n",
      "Epoch 19/300\n",
      "145/145 [==============================] - 6s 41ms/step - loss: 0.2938 - accuracy: 0.7939 - val_loss: 1.6538 - val_accuracy: 0.6277\n",
      "Epoch 20/300\n",
      "145/145 [==============================] - 6s 41ms/step - loss: 0.2834 - accuracy: 0.8060 - val_loss: 1.9271 - val_accuracy: 0.6106\n",
      "Epoch 21/300\n",
      "145/145 [==============================] - 6s 41ms/step - loss: 0.2529 - accuracy: 0.8221 - val_loss: 1.9888 - val_accuracy: 0.6174\n",
      "Epoch 22/300\n",
      "145/145 [==============================] - 6s 41ms/step - loss: 0.2311 - accuracy: 0.8347 - val_loss: 1.9841 - val_accuracy: 0.6663\n",
      "Epoch 23/300\n",
      "145/145 [==============================] - 6s 41ms/step - loss: 0.2150 - accuracy: 0.8464 - val_loss: 1.8523 - val_accuracy: 0.6762\n",
      "Epoch 24/300\n",
      "145/145 [==============================] - 6s 41ms/step - loss: 0.1843 - accuracy: 0.8617 - val_loss: 1.9865 - val_accuracy: 0.6594\n",
      "Epoch 25/300\n",
      "145/145 [==============================] - 6s 41ms/step - loss: 0.2233 - accuracy: 0.8520 - val_loss: 1.9943 - val_accuracy: 0.6525\n",
      "Epoch 26/300\n",
      "145/145 [==============================] - 6s 41ms/step - loss: 0.1954 - accuracy: 0.8597 - val_loss: 1.9696 - val_accuracy: 0.6274\n",
      "Epoch 27/300\n",
      "145/145 [==============================] - 6s 41ms/step - loss: 0.1635 - accuracy: 0.8849 - val_loss: 1.9712 - val_accuracy: 0.6443\n",
      "Epoch 28/300\n",
      "145/145 [==============================] - 6s 41ms/step - loss: 0.1785 - accuracy: 0.8806 - val_loss: 1.8460 - val_accuracy: 0.6681\n",
      "Epoch 29/300\n",
      "145/145 [==============================] - 6s 41ms/step - loss: 0.1334 - accuracy: 0.8985 - val_loss: 1.8273 - val_accuracy: 0.6754\n",
      "Epoch 30/300\n",
      "145/145 [==============================] - 6s 41ms/step - loss: 0.1162 - accuracy: 0.9108 - val_loss: 1.8245 - val_accuracy: 0.6780\n",
      "Epoch 31/300\n",
      "145/145 [==============================] - 6s 41ms/step - loss: 0.1135 - accuracy: 0.9168 - val_loss: 1.9360 - val_accuracy: 0.6805\n",
      "Epoch 32/300\n",
      "145/145 [==============================] - 6s 41ms/step - loss: 0.1010 - accuracy: 0.9262 - val_loss: 1.8808 - val_accuracy: 0.6907\n",
      "Epoch 33/300\n",
      "145/145 [==============================] - 6s 42ms/step - loss: 0.0948 - accuracy: 0.9301 - val_loss: 2.0425 - val_accuracy: 0.6830\n",
      "Epoch 34/300\n",
      "145/145 [==============================] - 6s 41ms/step - loss: 0.0851 - accuracy: 0.9366 - val_loss: 2.2088 - val_accuracy: 0.6955\n",
      "Epoch 35/300\n",
      "145/145 [==============================] - 6s 41ms/step - loss: 0.1221 - accuracy: 0.9247 - val_loss: 2.0851 - val_accuracy: 0.6893\n",
      "Epoch 36/300\n",
      "145/145 [==============================] - 6s 41ms/step - loss: 0.1577 - accuracy: 0.9162 - val_loss: 1.8923 - val_accuracy: 0.6787\n",
      "Epoch 37/300\n",
      "145/145 [==============================] - 6s 41ms/step - loss: 0.1113 - accuracy: 0.9278 - val_loss: 2.3733 - val_accuracy: 0.6758\n",
      "Epoch 38/300\n",
      "145/145 [==============================] - 6s 41ms/step - loss: 0.0820 - accuracy: 0.9438 - val_loss: 2.2500 - val_accuracy: 0.6783\n",
      "Epoch 39/300\n",
      "145/145 [==============================] - 6s 41ms/step - loss: 0.0774 - accuracy: 0.9465 - val_loss: 2.4470 - val_accuracy: 0.6538\n",
      "Epoch 40/300\n",
      "145/145 [==============================] - 6s 41ms/step - loss: 0.2035 - accuracy: 0.9176 - val_loss: 2.2695 - val_accuracy: 0.6776\n",
      "Epoch 41/300\n",
      "145/145 [==============================] - 6s 41ms/step - loss: 0.1006 - accuracy: 0.9348 - val_loss: 2.0495 - val_accuracy: 0.6946\n",
      "Epoch 42/300\n",
      "145/145 [==============================] - 6s 41ms/step - loss: 0.0694 - accuracy: 0.9513 - val_loss: 1.9792 - val_accuracy: 0.6883\n",
      "Epoch 43/300\n",
      "145/145 [==============================] - 6s 41ms/step - loss: 0.0546 - accuracy: 0.9598 - val_loss: 2.2625 - val_accuracy: 0.6969\n",
      "Epoch 44/300\n",
      "145/145 [==============================] - 6s 42ms/step - loss: 0.0521 - accuracy: 0.9636 - val_loss: 2.2277 - val_accuracy: 0.7139\n",
      "Epoch 45/300\n",
      "145/145 [==============================] - 6s 41ms/step - loss: 0.0489 - accuracy: 0.9662 - val_loss: 2.1578 - val_accuracy: 0.7087\n",
      "Epoch 46/300\n",
      "145/145 [==============================] - 6s 41ms/step - loss: 0.0426 - accuracy: 0.9704 - val_loss: 2.4081 - val_accuracy: 0.7013\n",
      "Epoch 47/300\n",
      "145/145 [==============================] - 6s 41ms/step - loss: 0.0418 - accuracy: 0.9721 - val_loss: 2.4922 - val_accuracy: 0.7037\n",
      "Epoch 48/300\n",
      "145/145 [==============================] - 6s 41ms/step - loss: 0.0362 - accuracy: 0.9743 - val_loss: 2.3138 - val_accuracy: 0.7195\n",
      "Epoch 49/300\n",
      "145/145 [==============================] - 6s 42ms/step - loss: 0.0429 - accuracy: 0.9718 - val_loss: 2.3513 - val_accuracy: 0.7048\n",
      "Epoch 50/300\n",
      "145/145 [==============================] - 6s 41ms/step - loss: 0.0796 - accuracy: 0.9588 - val_loss: 2.1171 - val_accuracy: 0.7073\n",
      "Epoch 51/300\n",
      "145/145 [==============================] - 6s 41ms/step - loss: 0.0395 - accuracy: 0.9737 - val_loss: 2.3739 - val_accuracy: 0.7191\n",
      "Epoch 52/300\n",
      "145/145 [==============================] - 6s 41ms/step - loss: 0.0360 - accuracy: 0.9765 - val_loss: 2.5864 - val_accuracy: 0.7171\n",
      "Epoch 53/300\n",
      "145/145 [==============================] - 6s 41ms/step - loss: 0.4034 - accuracy: 0.8989 - val_loss: 2.5454 - val_accuracy: 0.6099\n",
      "Epoch 54/300\n",
      "145/145 [==============================] - 6s 41ms/step - loss: 0.1163 - accuracy: 0.9321 - val_loss: 1.9969 - val_accuracy: 0.6738\n",
      "Epoch 55/300\n",
      "145/145 [==============================] - 6s 41ms/step - loss: 0.0621 - accuracy: 0.9610 - val_loss: 2.2853 - val_accuracy: 0.6723\n",
      "Epoch 56/300\n",
      "145/145 [==============================] - 6s 41ms/step - loss: 0.0437 - accuracy: 0.9710 - val_loss: 2.3242 - val_accuracy: 0.7161\n",
      "Epoch 57/300\n",
      "145/145 [==============================] - 6s 41ms/step - loss: 0.0356 - accuracy: 0.9753 - val_loss: 2.4406 - val_accuracy: 0.7081\n",
      "Epoch 58/300\n",
      "145/145 [==============================] - 6s 41ms/step - loss: 0.0312 - accuracy: 0.9786 - val_loss: 2.5361 - val_accuracy: 0.7147\n",
      "Epoch 59/300\n",
      "145/145 [==============================] - 6s 41ms/step - loss: 0.0306 - accuracy: 0.9788 - val_loss: 2.4046 - val_accuracy: 0.7151\n",
      "Epoch 60/300\n",
      "145/145 [==============================] - 6s 42ms/step - loss: 0.0270 - accuracy: 0.9824 - val_loss: 2.5365 - val_accuracy: 0.7202\n",
      "Epoch 61/300\n",
      "145/145 [==============================] - 6s 41ms/step - loss: 0.0337 - accuracy: 0.9805 - val_loss: 2.3875 - val_accuracy: 0.7238\n",
      "Epoch 62/300\n",
      "145/145 [==============================] - 6s 41ms/step - loss: 0.0226 - accuracy: 0.9848 - val_loss: 2.5408 - val_accuracy: 0.7077\n",
      "Epoch 63/300\n",
      "145/145 [==============================] - 6s 41ms/step - loss: 0.0227 - accuracy: 0.9845 - val_loss: 2.3246 - val_accuracy: 0.6955\n",
      "Epoch 64/300\n",
      "145/145 [==============================] - 6s 41ms/step - loss: 0.0247 - accuracy: 0.9848 - val_loss: 2.4540 - val_accuracy: 0.7077\n",
      "Epoch 65/300\n",
      "145/145 [==============================] - 6s 41ms/step - loss: 0.0204 - accuracy: 0.9867 - val_loss: 2.2135 - val_accuracy: 0.7160\n",
      "Epoch 66/300\n",
      "145/145 [==============================] - 6s 41ms/step - loss: 0.0193 - accuracy: 0.9870 - val_loss: 2.4794 - val_accuracy: 0.7230\n",
      "Epoch 67/300\n",
      "145/145 [==============================] - 6s 41ms/step - loss: 0.0196 - accuracy: 0.9874 - val_loss: 2.5322 - val_accuracy: 0.7087\n",
      "Epoch 68/300\n",
      "145/145 [==============================] - 6s 41ms/step - loss: 0.0184 - accuracy: 0.9879 - val_loss: 2.4163 - val_accuracy: 0.7232\n",
      "Epoch 69/300\n",
      "145/145 [==============================] - 6s 41ms/step - loss: 0.0231 - accuracy: 0.9864 - val_loss: 2.5215 - val_accuracy: 0.7284\n",
      "Epoch 70/300\n",
      "145/145 [==============================] - 6s 42ms/step - loss: 0.0218 - accuracy: 0.9874 - val_loss: 2.4418 - val_accuracy: 0.7198\n",
      "Epoch 71/300\n",
      "145/145 [==============================] - 6s 41ms/step - loss: 0.0426 - accuracy: 0.9815 - val_loss: 2.8094 - val_accuracy: 0.7199\n",
      "Epoch 72/300\n",
      "145/145 [==============================] - 6s 41ms/step - loss: 0.0343 - accuracy: 0.9816 - val_loss: 2.3068 - val_accuracy: 0.7261\n",
      "Epoch 73/300\n",
      "145/145 [==============================] - 6s 41ms/step - loss: 0.0646 - accuracy: 0.9702 - val_loss: 2.2181 - val_accuracy: 0.7085\n",
      "Epoch 74/300\n",
      "145/145 [==============================] - 6s 41ms/step - loss: 0.0526 - accuracy: 0.9779 - val_loss: 2.3640 - val_accuracy: 0.6866\n",
      "Epoch 75/300\n",
      "145/145 [==============================] - 6s 41ms/step - loss: 0.1682 - accuracy: 0.9575 - val_loss: 2.3204 - val_accuracy: 0.7194\n",
      "Epoch 76/300\n",
      "145/145 [==============================] - 6s 41ms/step - loss: 0.0438 - accuracy: 0.9785 - val_loss: 2.3662 - val_accuracy: 0.7176\n",
      "Epoch 77/300\n",
      "145/145 [==============================] - 6s 41ms/step - loss: 0.0214 - accuracy: 0.9872 - val_loss: 2.5508 - val_accuracy: 0.7169\n",
      "Epoch 78/300\n",
      "145/145 [==============================] - 6s 41ms/step - loss: 0.0161 - accuracy: 0.9896 - val_loss: 2.3406 - val_accuracy: 0.7119\n",
      "Epoch 79/300\n",
      "145/145 [==============================] - 6s 41ms/step - loss: 0.0151 - accuracy: 0.9905 - val_loss: 2.6474 - val_accuracy: 0.7122\n",
      "Epoch 80/300\n",
      "145/145 [==============================] - 6s 41ms/step - loss: 0.0133 - accuracy: 0.9914 - val_loss: 2.5410 - val_accuracy: 0.7293\n",
      "Epoch 81/300\n",
      "145/145 [==============================] - 6s 42ms/step - loss: 0.0128 - accuracy: 0.9925 - val_loss: 2.4240 - val_accuracy: 0.7277\n",
      "Epoch 82/300\n",
      "145/145 [==============================] - 6s 41ms/step - loss: 0.0139 - accuracy: 0.9914 - val_loss: 2.7040 - val_accuracy: 0.7287\n",
      "Epoch 83/300\n",
      "145/145 [==============================] - 6s 41ms/step - loss: 0.0142 - accuracy: 0.9915 - val_loss: 2.7611 - val_accuracy: 0.7173\n",
      "Epoch 84/300\n",
      "145/145 [==============================] - 6s 41ms/step - loss: 0.0147 - accuracy: 0.9922 - val_loss: 2.6156 - val_accuracy: 0.7277\n",
      "Epoch 85/300\n",
      "145/145 [==============================] - 6s 41ms/step - loss: 0.0103 - accuracy: 0.9937 - val_loss: 2.6541 - val_accuracy: 0.7365\n",
      "Epoch 86/300\n",
      "145/145 [==============================] - 6s 42ms/step - loss: 0.0109 - accuracy: 0.9929 - val_loss: 2.6194 - val_accuracy: 0.7197\n",
      "Epoch 87/300\n",
      "145/145 [==============================] - 6s 41ms/step - loss: 0.0204 - accuracy: 0.9910 - val_loss: 2.9105 - val_accuracy: 0.6917\n",
      "Epoch 88/300\n",
      "145/145 [==============================] - 6s 41ms/step - loss: 0.0125 - accuracy: 0.9925 - val_loss: 2.7307 - val_accuracy: 0.7294\n",
      "Epoch 89/300\n",
      "145/145 [==============================] - 6s 41ms/step - loss: 0.0116 - accuracy: 0.9925 - val_loss: 2.6201 - val_accuracy: 0.7236\n",
      "Epoch 90/300\n",
      "145/145 [==============================] - 6s 41ms/step - loss: 0.0173 - accuracy: 0.9903 - val_loss: 2.4849 - val_accuracy: 0.7220\n",
      "Epoch 91/300\n",
      "145/145 [==============================] - 6s 41ms/step - loss: 0.0104 - accuracy: 0.9938 - val_loss: 2.4996 - val_accuracy: 0.7280\n",
      "Epoch 92/300\n",
      "145/145 [==============================] - 6s 41ms/step - loss: 0.0128 - accuracy: 0.9931 - val_loss: 2.4803 - val_accuracy: 0.7251\n",
      "Epoch 93/300\n",
      "145/145 [==============================] - 6s 41ms/step - loss: 0.0133 - accuracy: 0.9921 - val_loss: 2.6766 - val_accuracy: 0.7310\n",
      "Epoch 94/300\n",
      "145/145 [==============================] - 6s 41ms/step - loss: 0.0127 - accuracy: 0.9932 - val_loss: 2.6513 - val_accuracy: 0.7259\n",
      "Epoch 95/300\n",
      "145/145 [==============================] - 6s 41ms/step - loss: 0.0100 - accuracy: 0.9937 - val_loss: 2.6472 - val_accuracy: 0.7291\n",
      "Epoch 96/300\n",
      "145/145 [==============================] - 6s 41ms/step - loss: 0.0098 - accuracy: 0.9941 - val_loss: 2.2687 - val_accuracy: 0.7367\n",
      "Epoch 97/300\n",
      "145/145 [==============================] - 6s 41ms/step - loss: 0.0147 - accuracy: 0.9920 - val_loss: 2.6093 - val_accuracy: 0.7223\n",
      "Epoch 98/300\n",
      "145/145 [==============================] - 6s 41ms/step - loss: 0.0715 - accuracy: 0.9776 - val_loss: 2.9028 - val_accuracy: 0.6955\n",
      "Epoch 99/300\n",
      "145/145 [==============================] - 6s 41ms/step - loss: 0.0619 - accuracy: 0.9772 - val_loss: 3.2610 - val_accuracy: 0.6997\n",
      "Epoch 100/300\n",
      "145/145 [==============================] - 6s 41ms/step - loss: 0.2960 - accuracy: 0.9493 - val_loss: 2.5236 - val_accuracy: 0.6993\n",
      "Epoch 101/300\n",
      "145/145 [==============================] - 6s 41ms/step - loss: 0.0472 - accuracy: 0.9787 - val_loss: 2.5481 - val_accuracy: 0.7122\n",
      "Epoch 102/300\n",
      "145/145 [==============================] - 6s 41ms/step - loss: 0.0165 - accuracy: 0.9907 - val_loss: 2.7063 - val_accuracy: 0.7113\n",
      "Epoch 103/300\n",
      "145/145 [==============================] - 6s 41ms/step - loss: 0.0423 - accuracy: 0.9799 - val_loss: 2.8387 - val_accuracy: 0.7132\n",
      "Epoch 104/300\n",
      "145/145 [==============================] - 6s 41ms/step - loss: 0.0376 - accuracy: 0.9876 - val_loss: 2.8587 - val_accuracy: 0.7156\n",
      "Epoch 105/300\n",
      "145/145 [==============================] - 6s 41ms/step - loss: 0.0117 - accuracy: 0.9934 - val_loss: 2.8013 - val_accuracy: 0.7077\n",
      "Epoch 106/300\n",
      "145/145 [==============================] - 6s 41ms/step - loss: 0.0093 - accuracy: 0.9945 - val_loss: 2.7840 - val_accuracy: 0.7263\n",
      "Epoch 107/300\n",
      "145/145 [==============================] - 6s 41ms/step - loss: 0.0098 - accuracy: 0.9946 - val_loss: 2.7658 - val_accuracy: 0.7240\n",
      "Epoch 108/300\n",
      "145/145 [==============================] - 6s 41ms/step - loss: 0.0078 - accuracy: 0.9955 - val_loss: 2.8483 - val_accuracy: 0.7220\n",
      "Epoch 109/300\n",
      "145/145 [==============================] - 6s 41ms/step - loss: 0.0071 - accuracy: 0.9952 - val_loss: 2.7569 - val_accuracy: 0.7254\n",
      "Epoch 110/300\n",
      "145/145 [==============================] - 6s 41ms/step - loss: 0.0056 - accuracy: 0.9964 - val_loss: 2.8256 - val_accuracy: 0.7268\n",
      "Epoch 111/300\n",
      "145/145 [==============================] - 6s 41ms/step - loss: 0.0066 - accuracy: 0.9958 - val_loss: 2.7957 - val_accuracy: 0.7274\n",
      "\n",
      "Epoch 00111: ReduceLROnPlateau reducing learning rate to 0.00010000000474974513.\n",
      "Epoch 112/300\n",
      "145/145 [==============================] - 6s 41ms/step - loss: 0.0061 - accuracy: 0.9969 - val_loss: 2.7811 - val_accuracy: 0.7184\n",
      "Epoch 113/300\n",
      "145/145 [==============================] - 6s 42ms/step - loss: 0.0046 - accuracy: 0.9970 - val_loss: 2.8325 - val_accuracy: 0.7283\n",
      "Epoch 114/300\n",
      "145/145 [==============================] - 6s 41ms/step - loss: 0.0059 - accuracy: 0.9970 - val_loss: 2.8191 - val_accuracy: 0.7295\n",
      "Epoch 115/300\n",
      "145/145 [==============================] - 6s 41ms/step - loss: 0.0047 - accuracy: 0.9975 - val_loss: 2.8204 - val_accuracy: 0.7270\n",
      "Epoch 116/300\n",
      "145/145 [==============================] - 6s 41ms/step - loss: 0.0041 - accuracy: 0.9973 - val_loss: 2.8432 - val_accuracy: 0.7302\n",
      "Epoch 117/300\n",
      "145/145 [==============================] - 6s 41ms/step - loss: 0.0042 - accuracy: 0.9975 - val_loss: 2.8435 - val_accuracy: 0.7273\n",
      "Epoch 118/300\n",
      "145/145 [==============================] - 6s 42ms/step - loss: 0.0038 - accuracy: 0.9977 - val_loss: 2.8365 - val_accuracy: 0.7264\n",
      "Epoch 119/300\n",
      "145/145 [==============================] - 6s 41ms/step - loss: 0.0041 - accuracy: 0.9974 - val_loss: 2.8660 - val_accuracy: 0.7321\n",
      "Epoch 120/300\n",
      "145/145 [==============================] - 6s 41ms/step - loss: 0.0043 - accuracy: 0.9976 - val_loss: 2.8066 - val_accuracy: 0.7296\n",
      "Epoch 121/300\n",
      "145/145 [==============================] - 6s 41ms/step - loss: 0.0040 - accuracy: 0.9974 - val_loss: 2.8196 - val_accuracy: 0.7289\n",
      "Epoch 122/300\n",
      "145/145 [==============================] - 6s 41ms/step - loss: 0.0038 - accuracy: 0.9978 - val_loss: 2.8346 - val_accuracy: 0.7303\n",
      "Epoch 123/300\n",
      "145/145 [==============================] - 6s 41ms/step - loss: 0.0044 - accuracy: 0.9978 - val_loss: 2.8197 - val_accuracy: 0.7287\n",
      "Epoch 124/300\n",
      "145/145 [==============================] - 6s 41ms/step - loss: 0.0043 - accuracy: 0.9978 - val_loss: 2.8178 - val_accuracy: 0.7255\n",
      "Epoch 125/300\n",
      "145/145 [==============================] - 6s 41ms/step - loss: 0.0057 - accuracy: 0.9976 - val_loss: 2.7971 - val_accuracy: 0.7273\n",
      "Epoch 126/300\n",
      "145/145 [==============================] - 6s 41ms/step - loss: 0.0035 - accuracy: 0.9979 - val_loss: 2.8675 - val_accuracy: 0.7309\n",
      "\n",
      "Epoch 00126: ReduceLROnPlateau reducing learning rate to 1.0000000474974514e-05.\n",
      "Epoch 127/300\n",
      "145/145 [==============================] - 6s 41ms/step - loss: 0.0042 - accuracy: 0.9977 - val_loss: 2.8417 - val_accuracy: 0.7306\n",
      "Epoch 128/300\n",
      "145/145 [==============================] - 6s 41ms/step - loss: 0.0034 - accuracy: 0.9979 - val_loss: 2.8336 - val_accuracy: 0.7309\n",
      "Epoch 129/300\n",
      "145/145 [==============================] - 6s 41ms/step - loss: 0.0035 - accuracy: 0.9982 - val_loss: 2.8309 - val_accuracy: 0.7288\n",
      "Epoch 130/300\n",
      "145/145 [==============================] - 6s 41ms/step - loss: 0.0035 - accuracy: 0.9981 - val_loss: 2.8424 - val_accuracy: 0.7308\n",
      "Epoch 131/300\n",
      "145/145 [==============================] - 6s 41ms/step - loss: 0.0036 - accuracy: 0.9979 - val_loss: 2.8373 - val_accuracy: 0.7301\n",
      "Epoch 132/300\n",
      "145/145 [==============================] - 6s 41ms/step - loss: 0.0033 - accuracy: 0.9978 - val_loss: 2.8446 - val_accuracy: 0.7306\n",
      "Epoch 133/300\n",
      "145/145 [==============================] - 6s 41ms/step - loss: 0.0038 - accuracy: 0.9979 - val_loss: 2.8325 - val_accuracy: 0.7280\n",
      "Epoch 134/300\n",
      "145/145 [==============================] - 6s 42ms/step - loss: 0.0034 - accuracy: 0.9980 - val_loss: 2.8489 - val_accuracy: 0.7295\n",
      "Epoch 135/300\n",
      "145/145 [==============================] - 6s 41ms/step - loss: 0.0035 - accuracy: 0.9980 - val_loss: 2.8403 - val_accuracy: 0.7291\n",
      "Epoch 136/300\n",
      "145/145 [==============================] - 6s 41ms/step - loss: 0.0037 - accuracy: 0.9977 - val_loss: 2.8555 - val_accuracy: 0.7302\n"
     ]
    }
   ],
   "source": [
    "model = build_model(X_train.shape[1:], 12)\n",
    "\n",
    "categorical_loss = tfk.losses.CategoricalCrossentropy()\n",
    "\n",
    "model.compile(loss=categorical_loss, optimizer=tfk.optimizers.Adam(learning_rate=lr), metrics='accuracy')\n",
    "\n",
    "history = model.fit(\n",
    "    x=X_train,\n",
    "    y=y_train,\n",
    "    batch_size=batch_size,\n",
    "    epochs=epochs,\n",
    "    callbacks=callbacks,\n",
    "    validation_data=(X_val, y_val),\n",
    "    shuffle=True,\n",
    "    class_weight=w_s,\n",
    "    workers=4,\n",
    "    use_multiprocessing=True,\n",
    ")"
   ]
  },
  {
   "cell_type": "code",
   "execution_count": 26,
   "metadata": {
    "execution": {
     "iopub.execute_input": "2022-12-21T21:02:19.599264Z",
     "iopub.status.busy": "2022-12-21T21:02:19.598937Z",
     "iopub.status.idle": "2022-12-21T21:03:08.598341Z",
     "shell.execute_reply": "2022-12-21T21:03:08.597272Z",
     "shell.execute_reply.started": "2022-12-21T21:02:19.599236Z"
    }
   },
   "outputs": [
    {
     "name": "stdout",
     "output_type": "stream",
     "text": [
      "0.73665452003479\n",
      "0.9981883764266968\n"
     ]
    },
    {
     "data": {
      "image/png": "[encoded data removed]",
      "text/plain": [
       "<Figure size 864x432 with 1 Axes>"
      ]
     },
     "metadata": {},
     "output_type": "display_data"
    }
   ],
   "source": [
    "print(np.max(history.history['val_accuracy']))\n",
    "print(np.max(history.history['accuracy']))\n",
    "x_axis = np.arange(len(history.history['val_accuracy']))\n",
    "\n",
    "plt.figure(figsize=(12, 6))\n",
    "plt.title(\"Accuracy\")\n",
    "plt.plot(x_axis, history.history[\"accuracy\"], label=\"train accuracy\")\n",
    "plt.plot(x_axis, history.history[\"val_accuracy\"], label=\"validation accuracy\")\n",
    "\n",
    "\n",
    "plt.legend()\n",
    "plt.xlabel(\"Epochs\")\n",
    "plt.ylabel(\"Accuracy\")\n",
    "plt.show()"
   ]
  },
  {
   "cell_type": "code",
   "execution_count": 27,
   "metadata": {
    "execution": {
     "iopub.execute_input": "2022-12-21T21:03:08.600296Z",
     "iopub.status.busy": "2022-12-21T21:03:08.599676Z",
     "iopub.status.idle": "2022-12-21T21:03:10.013420Z",
     "shell.execute_reply": "2022-12-21T21:03:10.012352Z",
     "shell.execute_reply.started": "2022-12-21T21:03:08.600253Z"
    }
   },
   "outputs": [],
   "source": [
    "c_m, report = evaluate_model(model, X_val, y_val)"
   ]
  },
  {
   "cell_type": "code",
   "execution_count": 28,
   "metadata": {
    "execution": {
     "iopub.execute_input": "2022-12-21T21:03:10.015193Z",
     "iopub.status.busy": "2022-12-21T21:03:10.014855Z",
     "iopub.status.idle": "2022-12-21T21:03:10.718213Z",
     "shell.execute_reply": "2022-12-21T21:03:10.717267Z",
     "shell.execute_reply.started": "2022-12-21T21:03:10.015158Z"
    }
   },
   "outputs": [
    {
     "data": {
      "image/png": "[encoded data removed]",
      "text/plain": [
       "<Figure size 864x720 with 2 Axes>"
      ]
     },
     "metadata": {},
     "output_type": "display_data"
    }
   ],
   "source": [
    "plt.figure(figsize=(12, 10))\n",
    "sns.heatmap(c_m, cmap='Blues', annot=True)\n",
    "plt.show()"
   ]
  },
  {
   "cell_type": "code",
   "execution_count": 29,
   "metadata": {
    "execution": {
     "iopub.execute_input": "2022-12-21T21:03:10.720615Z",
     "iopub.status.busy": "2022-12-21T21:03:10.719482Z",
     "iopub.status.idle": "2022-12-21T21:03:10.740451Z",
     "shell.execute_reply": "2022-12-21T21:03:10.739166Z",
     "shell.execute_reply.started": "2022-12-21T21:03:10.720570Z"
    }
   },
   "outputs": [
    {
     "data": {
      "text/html": [
       "<div>\n",
       "<style scoped>\n",
       "    .dataframe tbody tr th:only-of-type {\n",
       "        vertical-align: middle;\n",
       "    }\n",
       "\n",
       "    .dataframe tbody tr th {\n",
       "        vertical-align: top;\n",
       "    }\n",
       "\n",
       "    .dataframe thead th {\n",
       "        text-align: right;\n",
       "    }\n",
       "</style>\n",
       "<table border=\"1\" class=\"dataframe\">\n",
       "  <thead>\n",
       "    <tr style=\"text-align: right;\">\n",
       "      <th></th>\n",
       "      <th>0</th>\n",
       "      <th>1</th>\n",
       "      <th>2</th>\n",
       "      <th>3</th>\n",
       "      <th>4</th>\n",
       "      <th>5</th>\n",
       "      <th>6</th>\n",
       "      <th>7</th>\n",
       "      <th>8</th>\n",
       "      <th>9</th>\n",
       "      <th>10</th>\n",
       "      <th>11</th>\n",
       "    </tr>\n",
       "  </thead>\n",
       "  <tbody>\n",
       "    <tr>\n",
       "      <th>precision</th>\n",
       "      <td>0.666667</td>\n",
       "      <td>0.859307</td>\n",
       "      <td>0.967609</td>\n",
       "      <td>0.550067</td>\n",
       "      <td>0.463855</td>\n",
       "      <td>0.473029</td>\n",
       "      <td>0.923077</td>\n",
       "      <td>0.515837</td>\n",
       "      <td>0.883359</td>\n",
       "      <td>0.700272</td>\n",
       "      <td>0.969613</td>\n",
       "      <td>0.576687</td>\n",
       "    </tr>\n",
       "    <tr>\n",
       "      <th>recall</th>\n",
       "      <td>0.853147</td>\n",
       "      <td>0.637239</td>\n",
       "      <td>0.990826</td>\n",
       "      <td>0.607338</td>\n",
       "      <td>0.261905</td>\n",
       "      <td>0.290446</td>\n",
       "      <td>0.836871</td>\n",
       "      <td>0.349693</td>\n",
       "      <td>0.935750</td>\n",
       "      <td>0.804091</td>\n",
       "      <td>0.936000</td>\n",
       "      <td>0.400000</td>\n",
       "    </tr>\n",
       "    <tr>\n",
       "      <th>f1-score</th>\n",
       "      <td>0.748466</td>\n",
       "      <td>0.731797</td>\n",
       "      <td>0.979079</td>\n",
       "      <td>0.577286</td>\n",
       "      <td>0.334783</td>\n",
       "      <td>0.359905</td>\n",
       "      <td>0.877863</td>\n",
       "      <td>0.416819</td>\n",
       "      <td>0.908800</td>\n",
       "      <td>0.748600</td>\n",
       "      <td>0.952510</td>\n",
       "      <td>0.472362</td>\n",
       "    </tr>\n",
       "    <tr>\n",
       "      <th>support</th>\n",
       "      <td>143.000000</td>\n",
       "      <td>623.000000</td>\n",
       "      <td>1417.000000</td>\n",
       "      <td>2017.000000</td>\n",
       "      <td>294.000000</td>\n",
       "      <td>785.000000</td>\n",
       "      <td>1649.000000</td>\n",
       "      <td>326.000000</td>\n",
       "      <td>607.000000</td>\n",
       "      <td>4155.000000</td>\n",
       "      <td>375.000000</td>\n",
       "      <td>235.000000</td>\n",
       "    </tr>\n",
       "  </tbody>\n",
       "</table>\n",
       "</div>"
      ],
      "text/plain": [
       "                    0           1            2            3           4  \\\n",
       "precision    0.666667    0.859307     0.967609     0.550067    0.463855   \n",
       "recall       0.853147    0.637239     0.990826     0.607338    0.261905   \n",
       "f1-score     0.748466    0.731797     0.979079     0.577286    0.334783   \n",
       "support    143.000000  623.000000  1417.000000  2017.000000  294.000000   \n",
       "\n",
       "                    5            6           7           8            9  \\\n",
       "precision    0.473029     0.923077    0.515837    0.883359     0.700272   \n",
       "recall       0.290446     0.836871    0.349693    0.935750     0.804091   \n",
       "f1-score     0.359905     0.877863    0.416819    0.908800     0.748600   \n",
       "support    785.000000  1649.000000  326.000000  607.000000  4155.000000   \n",
       "\n",
       "                   10          11  \n",
       "precision    0.969613    0.576687  \n",
       "recall       0.936000    0.400000  \n",
       "f1-score     0.952510    0.472362  \n",
       "support    375.000000  235.000000  "
      ]
     },
     "execution_count": 29,
     "metadata": {},
     "output_type": "execute_result"
    }
   ],
   "source": [
    "report"
   ]
  },
  {
   "cell_type": "code",
   "execution_count": 30,
   "metadata": {
    "execution": {
     "iopub.execute_input": "2022-12-21T21:03:10.743738Z",
     "iopub.status.busy": "2022-12-21T21:03:10.743419Z",
     "iopub.status.idle": "2022-12-21T21:03:14.551984Z",
     "shell.execute_reply": "2022-12-21T21:03:14.550975Z",
     "shell.execute_reply.started": "2022-12-21T21:03:10.743710Z"
    }
   },
   "outputs": [],
   "source": [
    "model.save('models/')"
   ]
  },
  {
   "cell_type": "code",
   "execution_count": null,
   "metadata": {},
   "outputs": [],
   "source": []
  }
 ],
 "metadata": {
  "kernelspec": {
   "display_name": "Python 3 (ipykernel)",
   "language": "python",
   "name": "python3"
  },
  "language_info": {
   "codemirror_mode": {
    "name": "ipython",
    "version": 3
   },
   "file_extension": ".py",
   "mimetype": "text/x-python",
   "name": "python",
   "nbconvert_exporter": "python",
   "pygments_lexer": "ipython3",
   "version": "3.10.6"
  }
 },
 "nbformat": 4,
 "nbformat_minor": 4
}
